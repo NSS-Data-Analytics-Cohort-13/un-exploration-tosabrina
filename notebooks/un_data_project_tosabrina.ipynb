{
 "cells": [
  {
   "cell_type": "code",
   "execution_count": 1,
   "id": "b6199a13-f424-4d49-a618-dcb636982b37",
   "metadata": {},
   "outputs": [],
   "source": [
    "import pandas as pd\n",
    "import numpy as np\n",
    "import matplotlib.pyplot as plt\n",
    "import seaborn as sns"
   ]
  },
  {
   "cell_type": "markdown",
   "id": "708f6240-a792-4fc4-bc32-f46dda4ed8f3",
   "metadata": {},
   "source": [
    "## Using the pandas read_csv() method, read the GDP dataset into your notebook as a DataFrame called gdp_df. Take a look at the first few and last few rows to familiarize yourself with what is contained in this dataset."
   ]
  },
  {
   "cell_type": "code",
   "execution_count": 3,
   "id": "341e0b55-62e6-4aeb-aadb-f3a8df770a1b",
   "metadata": {
    "scrolled": true
   },
   "outputs": [],
   "source": [
    "##read.csv is only a specific fxn for pandas package\n",
    "gdp_df = pd.read_csv('../data/gdp_percapita.csv')"
   ]
  },
  {
   "cell_type": "code",
   "execution_count": 4,
   "id": "539f80ac-6cb1-450b-be71-663f1875ab62",
   "metadata": {},
   "outputs": [
    {
     "data": {
      "text/html": [
       "<div>\n",
       "<style scoped>\n",
       "    .dataframe tbody tr th:only-of-type {\n",
       "        vertical-align: middle;\n",
       "    }\n",
       "\n",
       "    .dataframe tbody tr th {\n",
       "        vertical-align: top;\n",
       "    }\n",
       "\n",
       "    .dataframe thead th {\n",
       "        text-align: right;\n",
       "    }\n",
       "</style>\n",
       "<table border=\"1\" class=\"dataframe\">\n",
       "  <thead>\n",
       "    <tr style=\"text-align: right;\">\n",
       "      <th></th>\n",
       "      <th>Country or Area</th>\n",
       "      <th>Year</th>\n",
       "      <th>Value</th>\n",
       "      <th>Value Footnotes</th>\n",
       "    </tr>\n",
       "  </thead>\n",
       "  <tbody>\n",
       "    <tr>\n",
       "      <th>0</th>\n",
       "      <td>Afghanistan</td>\n",
       "      <td>2021</td>\n",
       "      <td>1517.016266</td>\n",
       "      <td>NaN</td>\n",
       "    </tr>\n",
       "    <tr>\n",
       "      <th>1</th>\n",
       "      <td>Afghanistan</td>\n",
       "      <td>2020</td>\n",
       "      <td>1968.341002</td>\n",
       "      <td>NaN</td>\n",
       "    </tr>\n",
       "    <tr>\n",
       "      <th>2</th>\n",
       "      <td>Afghanistan</td>\n",
       "      <td>2019</td>\n",
       "      <td>2079.921861</td>\n",
       "      <td>NaN</td>\n",
       "    </tr>\n",
       "    <tr>\n",
       "      <th>3</th>\n",
       "      <td>Afghanistan</td>\n",
       "      <td>2018</td>\n",
       "      <td>2060.698973</td>\n",
       "      <td>NaN</td>\n",
       "    </tr>\n",
       "    <tr>\n",
       "      <th>4</th>\n",
       "      <td>Afghanistan</td>\n",
       "      <td>2017</td>\n",
       "      <td>2096.093111</td>\n",
       "      <td>NaN</td>\n",
       "    </tr>\n",
       "  </tbody>\n",
       "</table>\n",
       "</div>"
      ],
      "text/plain": [
       "  Country or Area  Year        Value  Value Footnotes\n",
       "0     Afghanistan  2021  1517.016266              NaN\n",
       "1     Afghanistan  2020  1968.341002              NaN\n",
       "2     Afghanistan  2019  2079.921861              NaN\n",
       "3     Afghanistan  2018  2060.698973              NaN\n",
       "4     Afghanistan  2017  2096.093111              NaN"
      ]
     },
     "execution_count": 4,
     "metadata": {},
     "output_type": "execute_result"
    }
   ],
   "source": [
    " gdp_df.head()"
   ]
  },
  {
   "cell_type": "code",
   "execution_count": 5,
   "id": "b31795ca-ae29-483c-9543-0104dfc32572",
   "metadata": {},
   "outputs": [
    {
     "data": {
      "text/html": [
       "<div>\n",
       "<style scoped>\n",
       "    .dataframe tbody tr th:only-of-type {\n",
       "        vertical-align: middle;\n",
       "    }\n",
       "\n",
       "    .dataframe tbody tr th {\n",
       "        vertical-align: top;\n",
       "    }\n",
       "\n",
       "    .dataframe thead th {\n",
       "        text-align: right;\n",
       "    }\n",
       "</style>\n",
       "<table border=\"1\" class=\"dataframe\">\n",
       "  <thead>\n",
       "    <tr style=\"text-align: right;\">\n",
       "      <th></th>\n",
       "      <th>Country or Area</th>\n",
       "      <th>Year</th>\n",
       "      <th>Value</th>\n",
       "      <th>Value Footnotes</th>\n",
       "    </tr>\n",
       "  </thead>\n",
       "  <tbody>\n",
       "    <tr>\n",
       "      <th>0</th>\n",
       "      <td>Afghanistan</td>\n",
       "      <td>2021</td>\n",
       "      <td>1517.016266</td>\n",
       "      <td>NaN</td>\n",
       "    </tr>\n",
       "    <tr>\n",
       "      <th>1</th>\n",
       "      <td>Afghanistan</td>\n",
       "      <td>2020</td>\n",
       "      <td>1968.341002</td>\n",
       "      <td>NaN</td>\n",
       "    </tr>\n",
       "    <tr>\n",
       "      <th>2</th>\n",
       "      <td>Afghanistan</td>\n",
       "      <td>2019</td>\n",
       "      <td>2079.921861</td>\n",
       "      <td>NaN</td>\n",
       "    </tr>\n",
       "    <tr>\n",
       "      <th>3</th>\n",
       "      <td>Afghanistan</td>\n",
       "      <td>2018</td>\n",
       "      <td>2060.698973</td>\n",
       "      <td>NaN</td>\n",
       "    </tr>\n",
       "    <tr>\n",
       "      <th>4</th>\n",
       "      <td>Afghanistan</td>\n",
       "      <td>2017</td>\n",
       "      <td>2096.093111</td>\n",
       "      <td>NaN</td>\n",
       "    </tr>\n",
       "    <tr>\n",
       "      <th>...</th>\n",
       "      <td>...</td>\n",
       "      <td>...</td>\n",
       "      <td>...</td>\n",
       "      <td>...</td>\n",
       "    </tr>\n",
       "    <tr>\n",
       "      <th>7657</th>\n",
       "      <td>Zimbabwe</td>\n",
       "      <td>1994</td>\n",
       "      <td>2670.106615</td>\n",
       "      <td>NaN</td>\n",
       "    </tr>\n",
       "    <tr>\n",
       "      <th>7658</th>\n",
       "      <td>Zimbabwe</td>\n",
       "      <td>1993</td>\n",
       "      <td>2458.783255</td>\n",
       "      <td>NaN</td>\n",
       "    </tr>\n",
       "    <tr>\n",
       "      <th>7659</th>\n",
       "      <td>Zimbabwe</td>\n",
       "      <td>1992</td>\n",
       "      <td>2468.278257</td>\n",
       "      <td>NaN</td>\n",
       "    </tr>\n",
       "    <tr>\n",
       "      <th>7660</th>\n",
       "      <td>Zimbabwe</td>\n",
       "      <td>1991</td>\n",
       "      <td>2781.787843</td>\n",
       "      <td>NaN</td>\n",
       "    </tr>\n",
       "    <tr>\n",
       "      <th>7661</th>\n",
       "      <td>Zimbabwe</td>\n",
       "      <td>1990</td>\n",
       "      <td>2704.757299</td>\n",
       "      <td>NaN</td>\n",
       "    </tr>\n",
       "  </tbody>\n",
       "</table>\n",
       "<p>7662 rows × 4 columns</p>\n",
       "</div>"
      ],
      "text/plain": [
       "     Country or Area  Year        Value  Value Footnotes\n",
       "0        Afghanistan  2021  1517.016266              NaN\n",
       "1        Afghanistan  2020  1968.341002              NaN\n",
       "2        Afghanistan  2019  2079.921861              NaN\n",
       "3        Afghanistan  2018  2060.698973              NaN\n",
       "4        Afghanistan  2017  2096.093111              NaN\n",
       "...              ...   ...          ...              ...\n",
       "7657        Zimbabwe  1994  2670.106615              NaN\n",
       "7658        Zimbabwe  1993  2458.783255              NaN\n",
       "7659        Zimbabwe  1992  2468.278257              NaN\n",
       "7660        Zimbabwe  1991  2781.787843              NaN\n",
       "7661        Zimbabwe  1990  2704.757299              NaN\n",
       "\n",
       "[7662 rows x 4 columns]"
      ]
     },
     "execution_count": 5,
     "metadata": {},
     "output_type": "execute_result"
    }
   ],
   "source": [
    "gdp_df"
   ]
  },
  {
   "cell_type": "code",
   "execution_count": 6,
   "id": "44e6d7f1-ae84-4bb6-9f51-5d6520948e08",
   "metadata": {},
   "outputs": [
    {
     "data": {
      "text/html": [
       "<div>\n",
       "<style scoped>\n",
       "    .dataframe tbody tr th:only-of-type {\n",
       "        vertical-align: middle;\n",
       "    }\n",
       "\n",
       "    .dataframe tbody tr th {\n",
       "        vertical-align: top;\n",
       "    }\n",
       "\n",
       "    .dataframe thead th {\n",
       "        text-align: right;\n",
       "    }\n",
       "</style>\n",
       "<table border=\"1\" class=\"dataframe\">\n",
       "  <thead>\n",
       "    <tr style=\"text-align: right;\">\n",
       "      <th></th>\n",
       "      <th>Country or Area</th>\n",
       "      <th>Year</th>\n",
       "      <th>Value</th>\n",
       "      <th>Value Footnotes</th>\n",
       "    </tr>\n",
       "  </thead>\n",
       "  <tbody>\n",
       "    <tr>\n",
       "      <th>7657</th>\n",
       "      <td>Zimbabwe</td>\n",
       "      <td>1994</td>\n",
       "      <td>2670.106615</td>\n",
       "      <td>NaN</td>\n",
       "    </tr>\n",
       "    <tr>\n",
       "      <th>7658</th>\n",
       "      <td>Zimbabwe</td>\n",
       "      <td>1993</td>\n",
       "      <td>2458.783255</td>\n",
       "      <td>NaN</td>\n",
       "    </tr>\n",
       "    <tr>\n",
       "      <th>7659</th>\n",
       "      <td>Zimbabwe</td>\n",
       "      <td>1992</td>\n",
       "      <td>2468.278257</td>\n",
       "      <td>NaN</td>\n",
       "    </tr>\n",
       "    <tr>\n",
       "      <th>7660</th>\n",
       "      <td>Zimbabwe</td>\n",
       "      <td>1991</td>\n",
       "      <td>2781.787843</td>\n",
       "      <td>NaN</td>\n",
       "    </tr>\n",
       "    <tr>\n",
       "      <th>7661</th>\n",
       "      <td>Zimbabwe</td>\n",
       "      <td>1990</td>\n",
       "      <td>2704.757299</td>\n",
       "      <td>NaN</td>\n",
       "    </tr>\n",
       "  </tbody>\n",
       "</table>\n",
       "</div>"
      ],
      "text/plain": [
       "     Country or Area  Year        Value  Value Footnotes\n",
       "7657        Zimbabwe  1994  2670.106615              NaN\n",
       "7658        Zimbabwe  1993  2458.783255              NaN\n",
       "7659        Zimbabwe  1992  2468.278257              NaN\n",
       "7660        Zimbabwe  1991  2781.787843              NaN\n",
       "7661        Zimbabwe  1990  2704.757299              NaN"
      ]
     },
     "execution_count": 6,
     "metadata": {},
     "output_type": "execute_result"
    }
   ],
   "source": [
    "gdp_df.tail()"
   ]
  },
  {
   "cell_type": "code",
   "execution_count": 7,
   "id": "4512b0b0-0d3b-4053-a395-bfd0dfd8f374",
   "metadata": {},
   "outputs": [
    {
     "name": "stdout",
     "output_type": "stream",
     "text": [
      "     Country or Area  Year        Value  Value Footnotes\n",
      "0        Afghanistan  2021  1517.016266              NaN\n",
      "1        Afghanistan  2020  1968.341002              NaN\n",
      "2        Afghanistan  2019  2079.921861              NaN\n",
      "3        Afghanistan  2018  2060.698973              NaN\n",
      "4        Afghanistan  2017  2096.093111              NaN\n",
      "...              ...   ...          ...              ...\n",
      "7657        Zimbabwe  1994  2670.106615              NaN\n",
      "7658        Zimbabwe  1993  2458.783255              NaN\n",
      "7659        Zimbabwe  1992  2468.278257              NaN\n",
      "7660        Zimbabwe  1991  2781.787843              NaN\n",
      "7661        Zimbabwe  1990  2704.757299              NaN\n",
      "\n",
      "[7662 rows x 4 columns]\n"
     ]
    }
   ],
   "source": [
    "print(gdp_df)"
   ]
  },
  {
   "cell_type": "markdown",
   "id": "f9e129e7-69bf-48b6-8ba9-046e01245043",
   "metadata": {},
   "source": [
    "## 5. How many rows and columns are in `gdp_df`? What are the data types of each column?"
   ]
  },
  {
   "cell_type": "code",
   "execution_count": 9,
   "id": "b45fd8a5-937d-4255-84b3-f7796924a575",
   "metadata": {},
   "outputs": [],
   "source": [
    "rows = len(gdp_df.index)"
   ]
  },
  {
   "cell_type": "code",
   "execution_count": 10,
   "id": "f301f8f1-f645-4d4e-ba94-7a75884e843e",
   "metadata": {},
   "outputs": [
    {
     "name": "stdout",
     "output_type": "stream",
     "text": [
      "7662\n"
     ]
    }
   ],
   "source": [
    "print(rows)"
   ]
  },
  {
   "cell_type": "code",
   "execution_count": 11,
   "id": "473a4524-a9fa-4b9b-8a04-db865e7f1627",
   "metadata": {},
   "outputs": [],
   "source": [
    "columns = len(gdp_df.columns)"
   ]
  },
  {
   "cell_type": "code",
   "execution_count": 12,
   "id": "f7d5b360-dd9d-4588-bedf-898f79887c9d",
   "metadata": {},
   "outputs": [
    {
     "name": "stdout",
     "output_type": "stream",
     "text": [
      "4\n"
     ]
    }
   ],
   "source": [
    "print(columns)"
   ]
  },
  {
   "cell_type": "code",
   "execution_count": 13,
   "id": "f21f0408-4a40-4ce9-872d-feab5793451a",
   "metadata": {},
   "outputs": [
    {
     "name": "stdout",
     "output_type": "stream",
     "text": [
      "<class 'pandas.core.frame.DataFrame'>\n"
     ]
    }
   ],
   "source": [
    "print(type(gdp_df))"
   ]
  },
  {
   "cell_type": "code",
   "execution_count": 14,
   "id": "4943f3fc-5172-43fe-983f-0e499e5188a3",
   "metadata": {},
   "outputs": [
    {
     "name": "stdout",
     "output_type": "stream",
     "text": [
      "<class 'int'>\n"
     ]
    }
   ],
   "source": [
    "print(type(columns))"
   ]
  },
  {
   "cell_type": "code",
   "execution_count": 15,
   "id": "adba0d22-6df7-4d0a-9ede-6f846dac6755",
   "metadata": {},
   "outputs": [
    {
     "name": "stdout",
     "output_type": "stream",
     "text": [
      "<class 'int'>\n"
     ]
    }
   ],
   "source": [
    "print(type(rows))"
   ]
  },
  {
   "cell_type": "code",
   "execution_count": 16,
   "id": "53663a12-beee-45ac-9394-11da2e4035fc",
   "metadata": {},
   "outputs": [
    {
     "data": {
      "text/plain": [
       "(7662, 4)"
      ]
     },
     "execution_count": 16,
     "metadata": {},
     "output_type": "execute_result"
    }
   ],
   "source": [
    "##Instructor Solution:\n",
    "gdp_df.shape"
   ]
  },
  {
   "cell_type": "code",
   "execution_count": 17,
   "id": "aa12eef8-ec88-4381-b6ab-e3e75cc79579",
   "metadata": {},
   "outputs": [],
   "source": [
    "##Instructor Notes: Find shape by Index (0, 1) or (7662, 3)"
   ]
  },
  {
   "cell_type": "code",
   "execution_count": 18,
   "id": "2a7053f8-89a6-4a63-9a3b-e7dddb45bf84",
   "metadata": {},
   "outputs": [
    {
     "data": {
      "text/plain": [
       "7662"
      ]
     },
     "execution_count": 18,
     "metadata": {},
     "output_type": "execute_result"
    }
   ],
   "source": [
    "gdp_df.shape[0]"
   ]
  },
  {
   "cell_type": "code",
   "execution_count": 19,
   "id": "9b6b5912-a780-433a-acbf-577d417c185a",
   "metadata": {},
   "outputs": [
    {
     "data": {
      "text/plain": [
       "4"
      ]
     },
     "execution_count": 19,
     "metadata": {},
     "output_type": "execute_result"
    }
   ],
   "source": [
    "gdp_df.shape[1]"
   ]
  },
  {
   "cell_type": "code",
   "execution_count": 20,
   "id": "0effd383-7dee-488d-abdb-1295f76e37d2",
   "metadata": {},
   "outputs": [
    {
     "data": {
      "text/html": [
       "<div>\n",
       "<style scoped>\n",
       "    .dataframe tbody tr th:only-of-type {\n",
       "        vertical-align: middle;\n",
       "    }\n",
       "\n",
       "    .dataframe tbody tr th {\n",
       "        vertical-align: top;\n",
       "    }\n",
       "\n",
       "    .dataframe thead th {\n",
       "        text-align: right;\n",
       "    }\n",
       "</style>\n",
       "<table border=\"1\" class=\"dataframe\">\n",
       "  <thead>\n",
       "    <tr style=\"text-align: right;\">\n",
       "      <th></th>\n",
       "      <th>Year</th>\n",
       "      <th>Value</th>\n",
       "      <th>Value Footnotes</th>\n",
       "    </tr>\n",
       "  </thead>\n",
       "  <tbody>\n",
       "    <tr>\n",
       "      <th>count</th>\n",
       "      <td>7662.000000</td>\n",
       "      <td>7662.000000</td>\n",
       "      <td>0.0</td>\n",
       "    </tr>\n",
       "    <tr>\n",
       "      <th>mean</th>\n",
       "      <td>2006.388280</td>\n",
       "      <td>17206.979219</td>\n",
       "      <td>NaN</td>\n",
       "    </tr>\n",
       "    <tr>\n",
       "      <th>std</th>\n",
       "      <td>9.418727</td>\n",
       "      <td>19363.258695</td>\n",
       "      <td>NaN</td>\n",
       "    </tr>\n",
       "    <tr>\n",
       "      <th>min</th>\n",
       "      <td>1990.000000</td>\n",
       "      <td>436.376416</td>\n",
       "      <td>NaN</td>\n",
       "    </tr>\n",
       "    <tr>\n",
       "      <th>25%</th>\n",
       "      <td>1998.000000</td>\n",
       "      <td>3655.268993</td>\n",
       "      <td>NaN</td>\n",
       "    </tr>\n",
       "    <tr>\n",
       "      <th>50%</th>\n",
       "      <td>2007.000000</td>\n",
       "      <td>10132.449293</td>\n",
       "      <td>NaN</td>\n",
       "    </tr>\n",
       "    <tr>\n",
       "      <th>75%</th>\n",
       "      <td>2015.000000</td>\n",
       "      <td>24119.515045</td>\n",
       "      <td>NaN</td>\n",
       "    </tr>\n",
       "    <tr>\n",
       "      <th>max</th>\n",
       "      <td>2022.000000</td>\n",
       "      <td>157602.482546</td>\n",
       "      <td>NaN</td>\n",
       "    </tr>\n",
       "  </tbody>\n",
       "</table>\n",
       "</div>"
      ],
      "text/plain": [
       "              Year          Value  Value Footnotes\n",
       "count  7662.000000    7662.000000              0.0\n",
       "mean   2006.388280   17206.979219              NaN\n",
       "std       9.418727   19363.258695              NaN\n",
       "min    1990.000000     436.376416              NaN\n",
       "25%    1998.000000    3655.268993              NaN\n",
       "50%    2007.000000   10132.449293              NaN\n",
       "75%    2015.000000   24119.515045              NaN\n",
       "max    2022.000000  157602.482546              NaN"
      ]
     },
     "execution_count": 20,
     "metadata": {},
     "output_type": "execute_result"
    }
   ],
   "source": [
    "##Find summary statistics for dataset\n",
    "gdp_df.describe()"
   ]
  },
  {
   "cell_type": "code",
   "execution_count": 21,
   "id": "0b20e5c0-64bb-45ad-9960-274ac3db080c",
   "metadata": {},
   "outputs": [
    {
     "data": {
      "text/plain": [
       "Country or Area     242\n",
       "Year                 33\n",
       "Value              7624\n",
       "Value Footnotes       0\n",
       "dtype: int64"
      ]
     },
     "execution_count": 21,
     "metadata": {},
     "output_type": "execute_result"
    }
   ],
   "source": [
    "##Find unique count of dataset for each column\n",
    "gdp_df.nunique()"
   ]
  },
  {
   "cell_type": "code",
   "execution_count": 22,
   "id": "e348e046-df25-465f-a414-84b8cc582b47",
   "metadata": {},
   "outputs": [
    {
     "name": "stdout",
     "output_type": "stream",
     "text": [
      "<class 'pandas.core.frame.DataFrame'>\n",
      "RangeIndex: 7662 entries, 0 to 7661\n",
      "Data columns (total 4 columns):\n",
      " #   Column           Non-Null Count  Dtype  \n",
      "---  ------           --------------  -----  \n",
      " 0   Country or Area  7662 non-null   object \n",
      " 1   Year             7662 non-null   int64  \n",
      " 2   Value            7662 non-null   float64\n",
      " 3   Value Footnotes  0 non-null      float64\n",
      "dtypes: float64(2), int64(1), object(1)\n",
      "memory usage: 239.6+ KB\n"
     ]
    }
   ],
   "source": [
    "gdp_df.info()"
   ]
  },
  {
   "cell_type": "raw",
   "id": "5befd073-355e-4ec7-9841-7947231b7783",
   "metadata": {},
   "source": [
    "## Q5 ANSWER: rows = 7662, columns = 4 (both integers)"
   ]
  },
  {
   "cell_type": "markdown",
   "id": "83c31102-baee-4011-9ffc-00082648b493",
   "metadata": {},
   "source": [
    "## 6. Drop the `Value Footnotes` column and rename the remaining three to 'Country', 'Year', and 'GDP_Per_Capita'."
   ]
  },
  {
   "cell_type": "code",
   "execution_count": 24,
   "id": "005294e2-93bb-4f13-b2ec-e1263853397e",
   "metadata": {
    "scrolled": true
   },
   "outputs": [
    {
     "name": "stdout",
     "output_type": "stream",
     "text": [
      "Help on method rename in module pandas.core.frame:\n",
      "\n",
      "rename(mapper: 'Renamer | None' = None, *, index: 'Renamer | None' = None, columns: 'Renamer | None' = None, axis: 'Axis | None' = None, copy: 'bool | None' = None, inplace: 'bool' = False, level: 'Level | None' = None, errors: 'IgnoreRaise' = 'ignore') -> 'DataFrame | None' method of pandas.core.frame.DataFrame instance\n",
      "    Rename columns or index labels.\n",
      "\n",
      "    Function / dict values must be unique (1-to-1). Labels not contained in\n",
      "    a dict / Series will be left as-is. Extra labels listed don't throw an\n",
      "    error.\n",
      "\n",
      "    See the :ref:`user guide <basics.rename>` for more.\n",
      "\n",
      "    Parameters\n",
      "    ----------\n",
      "    mapper : dict-like or function\n",
      "        Dict-like or function transformations to apply to\n",
      "        that axis' values. Use either ``mapper`` and ``axis`` to\n",
      "        specify the axis to target with ``mapper``, or ``index`` and\n",
      "        ``columns``.\n",
      "    index : dict-like or function\n",
      "        Alternative to specifying axis (``mapper, axis=0``\n",
      "        is equivalent to ``index=mapper``).\n",
      "    columns : dict-like or function\n",
      "        Alternative to specifying axis (``mapper, axis=1``\n",
      "        is equivalent to ``columns=mapper``).\n",
      "    axis : {0 or 'index', 1 or 'columns'}, default 0\n",
      "        Axis to target with ``mapper``. Can be either the axis name\n",
      "        ('index', 'columns') or number (0, 1). The default is 'index'.\n",
      "    copy : bool, default True\n",
      "        Also copy underlying data.\n",
      "\n",
      "        .. note::\n",
      "            The `copy` keyword will change behavior in pandas 3.0.\n",
      "            `Copy-on-Write\n",
      "            <https://pandas.pydata.org/docs/dev/user_guide/copy_on_write.html>`__\n",
      "            will be enabled by default, which means that all methods with a\n",
      "            `copy` keyword will use a lazy copy mechanism to defer the copy and\n",
      "            ignore the `copy` keyword. The `copy` keyword will be removed in a\n",
      "            future version of pandas.\n",
      "\n",
      "            You can already get the future behavior and improvements through\n",
      "            enabling copy on write ``pd.options.mode.copy_on_write = True``\n",
      "    inplace : bool, default False\n",
      "        Whether to modify the DataFrame rather than creating a new one.\n",
      "        If True then value of copy is ignored.\n",
      "    level : int or level name, default None\n",
      "        In case of a MultiIndex, only rename labels in the specified\n",
      "        level.\n",
      "    errors : {'ignore', 'raise'}, default 'ignore'\n",
      "        If 'raise', raise a `KeyError` when a dict-like `mapper`, `index`,\n",
      "        or `columns` contains labels that are not present in the Index\n",
      "        being transformed.\n",
      "        If 'ignore', existing keys will be renamed and extra keys will be\n",
      "        ignored.\n",
      "\n",
      "    Returns\n",
      "    -------\n",
      "    DataFrame or None\n",
      "        DataFrame with the renamed axis labels or None if ``inplace=True``.\n",
      "\n",
      "    Raises\n",
      "    ------\n",
      "    KeyError\n",
      "        If any of the labels is not found in the selected axis and\n",
      "        \"errors='raise'\".\n",
      "\n",
      "    See Also\n",
      "    --------\n",
      "    DataFrame.rename_axis : Set the name of the axis.\n",
      "\n",
      "    Examples\n",
      "    --------\n",
      "    ``DataFrame.rename`` supports two calling conventions\n",
      "\n",
      "    * ``(index=index_mapper, columns=columns_mapper, ...)``\n",
      "    * ``(mapper, axis={'index', 'columns'}, ...)``\n",
      "\n",
      "    We *highly* recommend using keyword arguments to clarify your\n",
      "    intent.\n",
      "\n",
      "    Rename columns using a mapping:\n",
      "\n",
      "    >>> df = pd.DataFrame({\"A\": [1, 2, 3], \"B\": [4, 5, 6]})\n",
      "    >>> df.rename(columns={\"A\": \"a\", \"B\": \"c\"})\n",
      "       a  c\n",
      "    0  1  4\n",
      "    1  2  5\n",
      "    2  3  6\n",
      "\n",
      "    Rename index using a mapping:\n",
      "\n",
      "    >>> df.rename(index={0: \"x\", 1: \"y\", 2: \"z\"})\n",
      "       A  B\n",
      "    x  1  4\n",
      "    y  2  5\n",
      "    z  3  6\n",
      "\n",
      "    Cast index labels to a different type:\n",
      "\n",
      "    >>> df.index\n",
      "    RangeIndex(start=0, stop=3, step=1)\n",
      "    >>> df.rename(index=str).index\n",
      "    Index(['0', '1', '2'], dtype='object')\n",
      "\n",
      "    >>> df.rename(columns={\"A\": \"a\", \"B\": \"b\", \"C\": \"c\"}, errors=\"raise\")\n",
      "    Traceback (most recent call last):\n",
      "    KeyError: ['C'] not found in axis\n",
      "\n",
      "    Using axis-style parameters:\n",
      "\n",
      "    >>> df.rename(str.lower, axis='columns')\n",
      "       a  b\n",
      "    0  1  4\n",
      "    1  2  5\n",
      "    2  3  6\n",
      "\n",
      "    >>> df.rename({1: 2, 2: 4}, axis='index')\n",
      "       A  B\n",
      "    0  1  4\n",
      "    2  2  5\n",
      "    4  3  6\n",
      "\n"
     ]
    }
   ],
   "source": [
    "help(gdp_df.rename)"
   ]
  },
  {
   "cell_type": "code",
   "execution_count": 25,
   "id": "9c66c81c-5cd2-4577-84e7-55f15b0d719d",
   "metadata": {},
   "outputs": [],
   "source": [
    "## = gdp_df.rename(columns={'Country or Area': 'Country', 'Year': 'Year', 'Value': 'GDP_Per_Capita'}, inplace=True)"
   ]
  },
  {
   "cell_type": "code",
   "execution_count": 26,
   "id": "109ca556-f05d-43aa-b48c-10e9f2070abc",
   "metadata": {},
   "outputs": [],
   "source": [
    "## gdp_df2= gdp_df.drop(gdp_df.columns[3], axis=1)"
   ]
  },
  {
   "cell_type": "code",
   "execution_count": 27,
   "id": "8a8f40e5-7e79-4bea-ab01-63ef894ff1cb",
   "metadata": {},
   "outputs": [],
   "source": [
    "## print(gdp_df2)"
   ]
  },
  {
   "cell_type": "code",
   "execution_count": 28,
   "id": "6dae3883-57e0-4610-8453-2acc0a0c6852",
   "metadata": {},
   "outputs": [],
   "source": [
    "## squiggly brackets {} indicates a data dictionary (aka key value pair)"
   ]
  },
  {
   "cell_type": "code",
   "execution_count": 29,
   "id": "80739034-591e-44de-b1a7-b41754eddfad",
   "metadata": {},
   "outputs": [],
   "source": [
    " gdp_rename = gdp_df.rename(columns={gdp_df.columns[0]:'Country', gdp_df.columns[2]:'GDP_Per_Capita'})"
   ]
  },
  {
   "cell_type": "code",
   "execution_count": 30,
   "id": "ccedbf8c-00ad-4d46-9b72-279b3da1967e",
   "metadata": {},
   "outputs": [
    {
     "name": "stdout",
     "output_type": "stream",
     "text": [
      "          Country  Year  GDP_Per_Capita  Value Footnotes\n",
      "0     Afghanistan  2021     1517.016266              NaN\n",
      "1     Afghanistan  2020     1968.341002              NaN\n",
      "2     Afghanistan  2019     2079.921861              NaN\n",
      "3     Afghanistan  2018     2060.698973              NaN\n",
      "4     Afghanistan  2017     2096.093111              NaN\n",
      "...           ...   ...             ...              ...\n",
      "7657     Zimbabwe  1994     2670.106615              NaN\n",
      "7658     Zimbabwe  1993     2458.783255              NaN\n",
      "7659     Zimbabwe  1992     2468.278257              NaN\n",
      "7660     Zimbabwe  1991     2781.787843              NaN\n",
      "7661     Zimbabwe  1990     2704.757299              NaN\n",
      "\n",
      "[7662 rows x 4 columns]\n"
     ]
    }
   ],
   "source": [
    "print(gdp_rename)"
   ]
  },
  {
   "cell_type": "code",
   "execution_count": 31,
   "id": "60f25963-7559-46a3-9ec1-a454cb021da5",
   "metadata": {},
   "outputs": [
    {
     "name": "stdout",
     "output_type": "stream",
     "text": [
      "Index(['Country or Area', 'Year', 'Value', 'Value Footnotes'], dtype='object')\n"
     ]
    }
   ],
   "source": [
    "print(gdp_df.columns)"
   ]
  },
  {
   "cell_type": "code",
   "execution_count": 32,
   "id": "d936dab8-63e9-44bb-8fe1-8bded66fc421",
   "metadata": {},
   "outputs": [],
   "source": [
    "gdp_df = gdp_drop_rename = gdp_rename.drop(gdp_df.columns[3], axis=1)\n",
    "##axis=0 (refer to 'index'), axis=1 (refer to 'columns')"
   ]
  },
  {
   "cell_type": "code",
   "execution_count": 33,
   "id": "2ec66558-a9a3-418f-902e-577f9ec52302",
   "metadata": {},
   "outputs": [
    {
     "name": "stdout",
     "output_type": "stream",
     "text": [
      "          Country  Year  GDP_Per_Capita\n",
      "0     Afghanistan  2021     1517.016266\n",
      "1     Afghanistan  2020     1968.341002\n",
      "2     Afghanistan  2019     2079.921861\n",
      "3     Afghanistan  2018     2060.698973\n",
      "4     Afghanistan  2017     2096.093111\n",
      "...           ...   ...             ...\n",
      "7657     Zimbabwe  1994     2670.106615\n",
      "7658     Zimbabwe  1993     2458.783255\n",
      "7659     Zimbabwe  1992     2468.278257\n",
      "7660     Zimbabwe  1991     2781.787843\n",
      "7661     Zimbabwe  1990     2704.757299\n",
      "\n",
      "[7662 rows x 3 columns]\n"
     ]
    }
   ],
   "source": [
    "print(gdp_drop_rename)"
   ]
  },
  {
   "cell_type": "markdown",
   "id": "5ae4a2f8-8f77-4f5d-b579-c10850a55383",
   "metadata": {},
   "source": [
    "## 7. How many countries have data for all years? Which countries are missing many years of data? Look at the number of observations per year. What do you notice? "
   ]
  },
  {
   "cell_type": "code",
   "execution_count": 35,
   "id": "6fc6312e-0d29-4c8c-9e55-be7ed6162011",
   "metadata": {
    "jupyter": {
     "source_hidden": true
    },
    "scrolled": true
   },
   "outputs": [
    {
     "name": "stdout",
     "output_type": "stream",
     "text": [
      "Help on method notnull in module pandas.core.frame:\n",
      "\n",
      "notnull() -> 'DataFrame' method of pandas.core.frame.DataFrame instance\n",
      "    DataFrame.notnull is an alias for DataFrame.notna.\n",
      "\n",
      "    Detect existing (non-missing) values.\n",
      "\n",
      "    Return a boolean same-sized object indicating if the values are not NA.\n",
      "    Non-missing values get mapped to True. Characters such as empty\n",
      "    strings ``''`` or :attr:`numpy.inf` are not considered NA values\n",
      "    (unless you set ``pandas.options.mode.use_inf_as_na = True``).\n",
      "    NA values, such as None or :attr:`numpy.NaN`, get mapped to False\n",
      "    values.\n",
      "\n",
      "    Returns\n",
      "    -------\n",
      "    DataFrame\n",
      "        Mask of bool values for each element in DataFrame that\n",
      "        indicates whether an element is not an NA value.\n",
      "\n",
      "    See Also\n",
      "    --------\n",
      "    DataFrame.notnull : Alias of notna.\n",
      "    DataFrame.isna : Boolean inverse of notna.\n",
      "    DataFrame.dropna : Omit axes labels with missing values.\n",
      "    notna : Top-level notna.\n",
      "\n",
      "    Examples\n",
      "    --------\n",
      "    Show which entries in a DataFrame are not NA.\n",
      "\n",
      "    >>> df = pd.DataFrame(dict(age=[5, 6, np.nan],\n",
      "    ...                        born=[pd.NaT, pd.Timestamp('1939-05-27'),\n",
      "    ...                              pd.Timestamp('1940-04-25')],\n",
      "    ...                        name=['Alfred', 'Batman', ''],\n",
      "    ...                        toy=[None, 'Batmobile', 'Joker']))\n",
      "    >>> df\n",
      "       age       born    name        toy\n",
      "    0  5.0        NaT  Alfred       None\n",
      "    1  6.0 1939-05-27  Batman  Batmobile\n",
      "    2  NaN 1940-04-25              Joker\n",
      "\n",
      "    >>> df.notna()\n",
      "         age   born  name    toy\n",
      "    0   True  False  True  False\n",
      "    1   True   True  True   True\n",
      "    2  False   True  True   True\n",
      "\n",
      "    Show which entries in a Series are not NA.\n",
      "\n",
      "    >>> ser = pd.Series([5, 6, np.nan])\n",
      "    >>> ser\n",
      "    0    5.0\n",
      "    1    6.0\n",
      "    2    NaN\n",
      "    dtype: float64\n",
      "\n",
      "    >>> ser.notna()\n",
      "    0     True\n",
      "    1     True\n",
      "    2    False\n",
      "    dtype: bool\n",
      "\n"
     ]
    }
   ],
   "source": [
    "help(gdp_drop_rename.notnull)"
   ]
  },
  {
   "cell_type": "code",
   "execution_count": 36,
   "id": "5f38d74e-eb71-4ab9-8090-78b8c96165a3",
   "metadata": {},
   "outputs": [],
   "source": [
    "##not_null = gdp_drop_rename['Country'].notnull().sum()"
   ]
  },
  {
   "cell_type": "code",
   "execution_count": 37,
   "id": "bbd2d926-5e2a-427f-b15d-612a2a2f0edf",
   "metadata": {},
   "outputs": [],
   "source": [
    "not_null = gdp_drop_rename.notnull().sum()"
   ]
  },
  {
   "cell_type": "code",
   "execution_count": 38,
   "id": "74a1a33c-5a6b-4ee5-bdbe-a9d76a790284",
   "metadata": {},
   "outputs": [
    {
     "name": "stdout",
     "output_type": "stream",
     "text": [
      "Country           7662\n",
      "Year              7662\n",
      "GDP_Per_Capita    7662\n",
      "dtype: int64\n"
     ]
    }
   ],
   "source": [
    "print(not_null)"
   ]
  },
  {
   "cell_type": "code",
   "execution_count": 39,
   "id": "de2e8129-5617-4379-8edd-a11d75a08a3e",
   "metadata": {},
   "outputs": [],
   "source": [
    "##Null after drop and rename (Q6)"
   ]
  },
  {
   "cell_type": "code",
   "execution_count": 40,
   "id": "e9a2cb65-7774-4ae6-a3d6-00e350d0e445",
   "metadata": {},
   "outputs": [],
   "source": [
    "##null = gdp_drop_rename['Country'].isnull().sum()"
   ]
  },
  {
   "cell_type": "code",
   "execution_count": 41,
   "id": "a0ebd8cb-d80b-43a1-a893-35440e8ddde6",
   "metadata": {},
   "outputs": [],
   "source": [
    "null = gdp_drop_rename.isnull().sum()"
   ]
  },
  {
   "cell_type": "code",
   "execution_count": 42,
   "id": "6453b368-e4c2-4931-b082-5b6c4fbab09b",
   "metadata": {},
   "outputs": [
    {
     "name": "stdout",
     "output_type": "stream",
     "text": [
      "Country           0\n",
      "Year              0\n",
      "GDP_Per_Capita    0\n",
      "dtype: int64\n"
     ]
    }
   ],
   "source": [
    "print(null)"
   ]
  },
  {
   "cell_type": "code",
   "execution_count": 43,
   "id": "5684b800-ac25-4273-9cfa-dbb870c5a85a",
   "metadata": {},
   "outputs": [],
   "source": [
    "##Start of Instructor Solution:##"
   ]
  },
  {
   "cell_type": "code",
   "execution_count": 44,
   "id": "d31d5f86-9f31-4909-8301-38033f275efd",
   "metadata": {},
   "outputs": [
    {
     "data": {
      "text/plain": [
       "Country\n",
       "Djibouti                       10\n",
       "Somalia                        10\n",
       "Turks and Caicos Islands       12\n",
       "Sint Maarten (Dutch part)      14\n",
       "Kosovo                         15\n",
       "Cayman Islands                 16\n",
       "Nauru                          19\n",
       "Afghanistan                    20\n",
       "CuraÃ§ao                       22\n",
       "Palau                          22\n",
       "SÃ£o TomÃ© and Principe        22\n",
       "Qatar                          23\n",
       "Other small states             23\n",
       "Timor-Leste                    23\n",
       "Liberia                        23\n",
       "Libya                          24\n",
       "San Marino                     25\n",
       "Small states                   26\n",
       "Montenegro                     26\n",
       "Maldives                       28\n",
       "Moldova                        28\n",
       "Israel                         28\n",
       "Iceland                        28\n",
       "Estonia                        28\n",
       "Croatia                        28\n",
       "Serbia                         28\n",
       "Slovenia                       28\n",
       "Lithuania                      28\n",
       "Latvia                         28\n",
       "West Bank and Gaza             29\n",
       "Bosnia and Herzegovina         29\n",
       "Cambodia                       30\n",
       "Kuwait                         31\n",
       "Slovak Republic                31\n",
       "Turkmenistan                   31\n",
       "Lebanon                        32\n",
       "Tonga                          32\n",
       "Hungary                        32\n",
       "Aruba                          32\n",
       "Bhutan                         32\n",
       "Papua New Guinea               33\n",
       "Pakistan                       33\n",
       "Australia                      33\n",
       "Pacific island small states    33\n",
       "Austria                        33\n",
       "Oman                           33\n",
       "Panama                         33\n",
       "Paraguay                       33\n",
       "Philippines                    33\n",
       "OECD members                   33\n",
       "Name: Year, dtype: int64"
      ]
     },
     "execution_count": 44,
     "metadata": {},
     "output_type": "execute_result"
    }
   ],
   "source": [
    "gdp_df.groupby('Country')['Year'].count().sort_values().head(50)"
   ]
  },
  {
   "cell_type": "code",
   "execution_count": 45,
   "id": "bc943742-6c64-4093-ac18-27de1014c8b2",
   "metadata": {},
   "outputs": [],
   "source": [
    "missing_countries = gdp_df.groupby('Country')['Year'].count().sort_values().reset_index()"
   ]
  },
  {
   "cell_type": "code",
   "execution_count": 46,
   "id": "4f690534-546d-4320-812a-5a24a4542253",
   "metadata": {},
   "outputs": [
    {
     "name": "stdout",
     "output_type": "stream",
     "text": [
      "                       Country  count_of_year\n",
      "0                     Djibouti             10\n",
      "1                      Somalia             10\n",
      "2     Turks and Caicos Islands             12\n",
      "3    Sint Maarten (Dutch part)             14\n",
      "4                       Kosovo             15\n",
      "..                         ...            ...\n",
      "237                    Jamaica             33\n",
      "238                      Japan             33\n",
      "239                     Jordan             33\n",
      "240                  IDA total             33\n",
      "241                   Zimbabwe             33\n",
      "\n",
      "[242 rows x 2 columns]\n"
     ]
    }
   ],
   "source": [
    "missing_countries = missing_countries.rename(columns={'Year':'count_of_year'})\n",
    "print(missing_countries)"
   ]
  },
  {
   "cell_type": "code",
   "execution_count": 47,
   "id": "aa127990-7b69-4077-9f18-aff69433a4ed",
   "metadata": {},
   "outputs": [
    {
     "data": {
      "text/plain": [
       "0       True\n",
       "1       True\n",
       "2       True\n",
       "3       True\n",
       "4       True\n",
       "       ...  \n",
       "237    False\n",
       "238    False\n",
       "239    False\n",
       "240    False\n",
       "241    False\n",
       "Name: count_of_year, Length: 242, dtype: bool"
      ]
     },
     "execution_count": 47,
     "metadata": {},
     "output_type": "execute_result"
    }
   ],
   "source": [
    "missing_countries['count_of_year']<33 ##33 years represented in data"
   ]
  },
  {
   "cell_type": "code",
   "execution_count": 48,
   "id": "e116dd76-72a4-4448-b89b-49c1f9de4fa5",
   "metadata": {},
   "outputs": [
    {
     "data": {
      "text/plain": [
       "40"
      ]
     },
     "execution_count": 48,
     "metadata": {},
     "output_type": "execute_result"
    }
   ],
   "source": [
    "missing_countries[missing_countries['count_of_year']<33]['Country'].count()"
   ]
  },
  {
   "cell_type": "code",
   "execution_count": 49,
   "id": "f9c0cbe8-315c-49d6-9182-eda239a475e2",
   "metadata": {},
   "outputs": [
    {
     "data": {
      "text/html": [
       "<div>\n",
       "<style scoped>\n",
       "    .dataframe tbody tr th:only-of-type {\n",
       "        vertical-align: middle;\n",
       "    }\n",
       "\n",
       "    .dataframe tbody tr th {\n",
       "        vertical-align: top;\n",
       "    }\n",
       "\n",
       "    .dataframe thead th {\n",
       "        text-align: right;\n",
       "    }\n",
       "</style>\n",
       "<table border=\"1\" class=\"dataframe\">\n",
       "  <thead>\n",
       "    <tr style=\"text-align: right;\">\n",
       "      <th></th>\n",
       "      <th>Year</th>\n",
       "      <th>GDP_Per_Capita</th>\n",
       "    </tr>\n",
       "    <tr>\n",
       "      <th>Country</th>\n",
       "      <th></th>\n",
       "      <th></th>\n",
       "    </tr>\n",
       "  </thead>\n",
       "  <tbody>\n",
       "    <tr>\n",
       "      <th>Somalia</th>\n",
       "      <td>2013</td>\n",
       "      <td>889.166677</td>\n",
       "    </tr>\n",
       "    <tr>\n",
       "      <th>Djibouti</th>\n",
       "      <td>2013</td>\n",
       "      <td>3664.268036</td>\n",
       "    </tr>\n",
       "    <tr>\n",
       "      <th>Turks and Caicos Islands</th>\n",
       "      <td>2011</td>\n",
       "      <td>25731.283253</td>\n",
       "    </tr>\n",
       "    <tr>\n",
       "      <th>Sint Maarten (Dutch part)</th>\n",
       "      <td>2009</td>\n",
       "      <td>41969.404381</td>\n",
       "    </tr>\n",
       "    <tr>\n",
       "      <th>Kosovo</th>\n",
       "      <td>2008</td>\n",
       "      <td>7032.452297</td>\n",
       "    </tr>\n",
       "    <tr>\n",
       "      <th>Cayman Islands</th>\n",
       "      <td>2006</td>\n",
       "      <td>84778.384261</td>\n",
       "    </tr>\n",
       "    <tr>\n",
       "      <th>Nauru</th>\n",
       "      <td>2004</td>\n",
       "      <td>5342.330551</td>\n",
       "    </tr>\n",
       "    <tr>\n",
       "      <th>Afghanistan</th>\n",
       "      <td>2002</td>\n",
       "      <td>1280.463171</td>\n",
       "    </tr>\n",
       "    <tr>\n",
       "      <th>SÃ£o TomÃ© and Principe</th>\n",
       "      <td>2001</td>\n",
       "      <td>2558.983512</td>\n",
       "    </tr>\n",
       "    <tr>\n",
       "      <th>Palau</th>\n",
       "      <td>2000</td>\n",
       "      <td>13301.254248</td>\n",
       "    </tr>\n",
       "    <tr>\n",
       "      <th>CuraÃ§ao</th>\n",
       "      <td>2000</td>\n",
       "      <td>28613.900065</td>\n",
       "    </tr>\n",
       "    <tr>\n",
       "      <th>Other small states</th>\n",
       "      <td>2000</td>\n",
       "      <td>13522.865601</td>\n",
       "    </tr>\n",
       "    <tr>\n",
       "      <th>Qatar</th>\n",
       "      <td>2000</td>\n",
       "      <td>79400.433413</td>\n",
       "    </tr>\n",
       "    <tr>\n",
       "      <th>Timor-Leste</th>\n",
       "      <td>2000</td>\n",
       "      <td>2314.810099</td>\n",
       "    </tr>\n",
       "    <tr>\n",
       "      <th>Liberia</th>\n",
       "      <td>2000</td>\n",
       "      <td>1725.144894</td>\n",
       "    </tr>\n",
       "    <tr>\n",
       "      <th>Libya</th>\n",
       "      <td>1999</td>\n",
       "      <td>26668.444336</td>\n",
       "    </tr>\n",
       "    <tr>\n",
       "      <th>Montenegro</th>\n",
       "      <td>1997</td>\n",
       "      <td>12579.285087</td>\n",
       "    </tr>\n",
       "    <tr>\n",
       "      <th>San Marino</th>\n",
       "      <td>1997</td>\n",
       "      <td>66407.513921</td>\n",
       "    </tr>\n",
       "    <tr>\n",
       "      <th>Small states</th>\n",
       "      <td>1997</td>\n",
       "      <td>12077.174861</td>\n",
       "    </tr>\n",
       "    <tr>\n",
       "      <th>Croatia</th>\n",
       "      <td>1995</td>\n",
       "      <td>15083.558943</td>\n",
       "    </tr>\n",
       "    <tr>\n",
       "      <th>Lithuania</th>\n",
       "      <td>1995</td>\n",
       "      <td>10640.360031</td>\n",
       "    </tr>\n",
       "    <tr>\n",
       "      <th>Moldova</th>\n",
       "      <td>1995</td>\n",
       "      <td>5617.908105</td>\n",
       "    </tr>\n",
       "    <tr>\n",
       "      <th>Slovenia</th>\n",
       "      <td>1995</td>\n",
       "      <td>21480.327976</td>\n",
       "    </tr>\n",
       "    <tr>\n",
       "      <th>Israel</th>\n",
       "      <td>1995</td>\n",
       "      <td>26891.425123</td>\n",
       "    </tr>\n",
       "    <tr>\n",
       "      <th>Latvia</th>\n",
       "      <td>1995</td>\n",
       "      <td>9599.146005</td>\n",
       "    </tr>\n",
       "    <tr>\n",
       "      <th>Maldives</th>\n",
       "      <td>1995</td>\n",
       "      <td>10430.788646</td>\n",
       "    </tr>\n",
       "    <tr>\n",
       "      <th>Iceland</th>\n",
       "      <td>1995</td>\n",
       "      <td>33666.180499</td>\n",
       "    </tr>\n",
       "    <tr>\n",
       "      <th>Serbia</th>\n",
       "      <td>1995</td>\n",
       "      <td>7752.202576</td>\n",
       "    </tr>\n",
       "    <tr>\n",
       "      <th>Estonia</th>\n",
       "      <td>1995</td>\n",
       "      <td>12730.717414</td>\n",
       "    </tr>\n",
       "    <tr>\n",
       "      <th>West Bank and Gaza</th>\n",
       "      <td>1994</td>\n",
       "      <td>3951.205493</td>\n",
       "    </tr>\n",
       "    <tr>\n",
       "      <th>Bosnia and Herzegovina</th>\n",
       "      <td>1994</td>\n",
       "      <td>1730.122678</td>\n",
       "    </tr>\n",
       "    <tr>\n",
       "      <th>Cambodia</th>\n",
       "      <td>1993</td>\n",
       "      <td>1716.840958</td>\n",
       "    </tr>\n",
       "    <tr>\n",
       "      <th>Slovak Republic</th>\n",
       "      <td>1992</td>\n",
       "      <td>11695.349228</td>\n",
       "    </tr>\n",
       "    <tr>\n",
       "      <th>Kuwait</th>\n",
       "      <td>1992</td>\n",
       "      <td>41446.963751</td>\n",
       "    </tr>\n",
       "    <tr>\n",
       "      <th>Hungary</th>\n",
       "      <td>1991</td>\n",
       "      <td>16426.940584</td>\n",
       "    </tr>\n",
       "  </tbody>\n",
       "</table>\n",
       "</div>"
      ],
      "text/plain": [
       "                           Year  GDP_Per_Capita\n",
       "Country                                        \n",
       "Somalia                    2013      889.166677\n",
       "Djibouti                   2013     3664.268036\n",
       "Turks and Caicos Islands   2011    25731.283253\n",
       "Sint Maarten (Dutch part)  2009    41969.404381\n",
       "Kosovo                     2008     7032.452297\n",
       "Cayman Islands             2006    84778.384261\n",
       "Nauru                      2004     5342.330551\n",
       "Afghanistan                2002     1280.463171\n",
       "SÃ£o TomÃ© and Principe    2001     2558.983512\n",
       "Palau                      2000    13301.254248\n",
       "CuraÃ§ao                   2000    28613.900065\n",
       "Other small states         2000    13522.865601\n",
       "Qatar                      2000    79400.433413\n",
       "Timor-Leste                2000     2314.810099\n",
       "Liberia                    2000     1725.144894\n",
       "Libya                      1999    26668.444336\n",
       "Montenegro                 1997    12579.285087\n",
       "San Marino                 1997    66407.513921\n",
       "Small states               1997    12077.174861\n",
       "Croatia                    1995    15083.558943\n",
       "Lithuania                  1995    10640.360031\n",
       "Moldova                    1995     5617.908105\n",
       "Slovenia                   1995    21480.327976\n",
       "Israel                     1995    26891.425123\n",
       "Latvia                     1995     9599.146005\n",
       "Maldives                   1995    10430.788646\n",
       "Iceland                    1995    33666.180499\n",
       "Serbia                     1995     7752.202576\n",
       "Estonia                    1995    12730.717414\n",
       "West Bank and Gaza         1994     3951.205493\n",
       "Bosnia and Herzegovina     1994     1730.122678\n",
       "Cambodia                   1993     1716.840958\n",
       "Slovak Republic            1992    11695.349228\n",
       "Kuwait                     1992    41446.963751\n",
       "Hungary                    1991    16426.940584"
      ]
     },
     "execution_count": 49,
     "metadata": {},
     "output_type": "execute_result"
    }
   ],
   "source": [
    "## RYAN HENDERSON'S ALT ANSWER ##\n",
    "#Questions to answer: What is the range of years in the dataset? List countries by count of unique years. List years by count of unique countries.\n",
    "gdp_years = gdp_df.groupby(\"Country\")\n",
    "gdp_last = gdp_years.last()\n",
    "gdp_min = gdp_last.sort_values(by=\"Year\",ascending=False)\n",
    "# All countries' first appearance in the dataset\n",
    "gdp_min[gdp_min[\"Year\"]>1990]\n",
    "# All countries' whose first appearance was after 1990"
   ]
  },
  {
   "cell_type": "markdown",
   "id": "ebc2e863-6d15-4b5e-a06b-3039bc747f6e",
   "metadata": {},
   "source": [
    "## 8. In this question, you're going to create some plots to show the distribution of GDP per capita for the year 2020. Go to the Python Graph Gallery (https://www.python-graph-gallery.com/) and look at the different types of plots under the Distribution section. Create a histogram, a density plot, a boxplot, and a violin plot. What do you notice when you look at these plots? How do the plots compare and what information can you get out of one type that you can't necessarily get out of the others?"
   ]
  },
  {
   "cell_type": "markdown",
   "id": "22e513bc-1d9c-43c3-b37c-171792189c6d",
   "metadata": {},
   "source": [
    "##Histogram"
   ]
  },
  {
   "cell_type": "code",
   "execution_count": 52,
   "id": "0604d21a-d31c-4ded-b881-f7a11f37e6af",
   "metadata": {},
   "outputs": [],
   "source": [
    "##plt.hist((gdp_df['Year']==2020), gdp_df['GDP_Per_Capita'])"
   ]
  },
  {
   "cell_type": "code",
   "execution_count": 53,
   "id": "9b254fa0-79a7-4ac1-acb9-4fac025f9456",
   "metadata": {
    "scrolled": true
   },
   "outputs": [
    {
     "name": "stdout",
     "output_type": "stream",
     "text": [
      "                          Country  Year  GDP_Per_Capita\n",
      "1                     Afghanistan  2020     1968.341002\n",
      "22    Africa Eastern and Southern  2020     3455.023119\n",
      "55     Africa Western and Central  2020     3957.933804\n",
      "88                        Albania  2020    13278.369769\n",
      "121                       Algeria  2020    10844.770764\n",
      "...                           ...   ...             ...\n",
      "7503                     Viet Nam  2020    10450.622382\n",
      "7536           West Bank and Gaza  2020     5402.538773\n",
      "7565                        World  2020    16204.169107\n",
      "7598                       Zambia  2020     3183.650773\n",
      "7631                     Zimbabwe  2020     1990.319419\n",
      "\n",
      "[242 rows x 3 columns]\n"
     ]
    },
    {
     "data": {
      "text/plain": [
       "pandas.core.frame.DataFrame"
      ]
     },
     "execution_count": 53,
     "metadata": {},
     "output_type": "execute_result"
    }
   ],
   "source": [
    "gdp_2020 = gdp_df[gdp_df[\"Year\"]==2020] ##.reset_index\n",
    "print(gdp_2020)\n",
    "type(gdp_2020)"
   ]
  },
  {
   "cell_type": "code",
   "execution_count": 54,
   "id": "017bfbfd-293c-4db8-a639-e38103555ef4",
   "metadata": {},
   "outputs": [],
   "source": [
    "##plt.hist(gdp_2020)\n",
    "##plt.show()"
   ]
  },
  {
   "cell_type": "code",
   "execution_count": 55,
   "id": "42d66f40-8052-41b0-8300-32ec8ace067b",
   "metadata": {},
   "outputs": [
    {
     "data": {
      "text/plain": [
       "Text(0.5, 1.0, 'Histogram for 2020 GDP Per Capita')"
      ]
     },
     "execution_count": 55,
     "metadata": {},
     "output_type": "execute_result"
    },
    {
     "data": {
      "image/png": "[encoded data removed]",
      "text/plain": [
       "<Figure size 640x480 with 1 Axes>"
      ]
     },
     "metadata": {},
     "output_type": "display_data"
    }
   ],
   "source": [
    "sns.histplot(data=gdp_2020, x= \"GDP_Per_Capita\")\n",
    "plt.xlabel('GDP Per Capita')\n",
    "plt.title('Histogram for 2020 GDP Per Capita')"
   ]
  },
  {
   "cell_type": "markdown",
   "id": "a6c52bff-1b30-46b1-93e9-58cf81c09573",
   "metadata": {},
   "source": [
    "##Density Plot"
   ]
  },
  {
   "cell_type": "code",
   "execution_count": 57,
   "id": "218c4b08-c54a-4749-b1be-d381cf507019",
   "metadata": {},
   "outputs": [
    {
     "data": {
      "text/plain": [
       "Text(0.5, 1.0, 'Density Plot for 2020 GDP Per Capita')"
      ]
     },
     "execution_count": 57,
     "metadata": {},
     "output_type": "execute_result"
    },
    {
     "data": {
      "image/png": "[encoded data removed]",
      "text/plain": [
       "<Figure size 640x480 with 1 Axes>"
      ]
     },
     "metadata": {},
     "output_type": "display_data"
    }
   ],
   "source": [
    "sns.kdeplot(gdp_2020['GDP_Per_Capita'])\n",
    "plt.xlabel('GDP Per Capita')\n",
    "plt.title('Density Plot for 2020 GDP Per Capita')"
   ]
  },
  {
   "cell_type": "markdown",
   "id": "0834c9ed-2610-4d8d-9668-d1e78368ec19",
   "metadata": {},
   "source": [
    "##Boxplot"
   ]
  },
  {
   "cell_type": "code",
   "execution_count": 59,
   "id": "c4dd027c-ac86-49a6-875d-ea7e62e8f2f9",
   "metadata": {},
   "outputs": [
    {
     "data": {
      "text/plain": [
       "Text(0.5, 1.0, 'Boxplot for 2020 GDP Per Capita')"
      ]
     },
     "execution_count": 59,
     "metadata": {},
     "output_type": "execute_result"
    },
    {
     "data": {
      "image/png": "[encoded data removed]",
      "text/plain": [
       "<Figure size 640x480 with 1 Axes>"
      ]
     },
     "metadata": {},
     "output_type": "display_data"
    }
   ],
   "source": [
    "sns.boxplot( x=gdp_2020[\"Year\"], y=gdp_2020[\"GDP_Per_Capita\"] )\n",
    "plt.xlabel('GDP Per Capita')\n",
    "plt.title('Boxplot for 2020 GDP Per Capita')"
   ]
  },
  {
   "cell_type": "markdown",
   "id": "be5b7a23-3963-44b0-bc58-d6733b55310d",
   "metadata": {},
   "source": [
    "##Violin Plot"
   ]
  },
  {
   "cell_type": "code",
   "execution_count": 61,
   "id": "c50aafac-58f0-4f54-8040-549844048f64",
   "metadata": {},
   "outputs": [
    {
     "data": {
      "text/plain": [
       "Text(0.5, 1.0, 'Violin Plot for 2020 GDP Per Capita')"
      ]
     },
     "execution_count": 61,
     "metadata": {},
     "output_type": "execute_result"
    },
    {
     "data": {
      "image/png": "[encoded data removed]",
      "text/plain": [
       "<Figure size 640x480 with 1 Axes>"
      ]
     },
     "metadata": {},
     "output_type": "display_data"
    }
   ],
   "source": [
    "sns.violinplot(y=gdp_2020[\"GDP_Per_Capita\"])\n",
    "plt.xlabel('GDP Per Capita')\n",
    "plt.title('Violin Plot for 2020 GDP Per Capita')"
   ]
  },
  {
   "cell_type": "markdown",
   "id": "e54eab51-a8e5-48e2-8679-5f26c4564aa9",
   "metadata": {},
   "source": [
    "##What do you notice when you look at these plots? How do the plots compare and what information can you get out of one type that you can't necessarily get out of the others?"
   ]
  },
  {
   "cell_type": "markdown",
   "id": "328ccb63-44a9-4fd7-94de-4db504e3d911",
   "metadata": {},
   "source": [
    "##ANSWER:\n",
    "##Show distribution for GDP Per Capita\n",
    "##Distrbution is spread, avg. GDP in 20k range"
   ]
  },
  {
   "cell_type": "markdown",
   "id": "6b57d710-e9ad-42c6-b026-48c8dd1e8d3f",
   "metadata": {},
   "source": [
    "## 9. What was the median GDP per capita value in 2020?"
   ]
  },
  {
   "cell_type": "code",
   "execution_count": 65,
   "id": "6ebc0b2b-fd07-4133-b6fc-2504b9a64a21",
   "metadata": {},
   "outputs": [
    {
     "name": "stdout",
     "output_type": "stream",
     "text": [
      "13357.997573370474\n"
     ]
    }
   ],
   "source": [
    "median_GDP_2020 = gdp_2020['GDP_Per_Capita'].median()\n",
    "print(median_GDP_2020)"
   ]
  },
  {
   "cell_type": "code",
   "execution_count": 66,
   "id": "f237ef40-209f-454b-aab8-3abe37389b14",
   "metadata": {},
   "outputs": [
    {
     "data": {
      "text/plain": [
       "count       242.000000\n",
       "mean      19586.754446\n",
       "std       19640.401631\n",
       "min         711.355263\n",
       "25%        4961.408532\n",
       "50%       13357.997573\n",
       "75%       27064.125293\n",
       "max      111751.314751\n",
       "Name: GDP_Per_Capita, dtype: float64"
      ]
     },
     "execution_count": 66,
     "metadata": {},
     "output_type": "execute_result"
    }
   ],
   "source": [
    "gdp_2020['GDP_Per_Capita'].describe()"
   ]
  },
  {
   "cell_type": "code",
   "execution_count": null,
   "id": "ee52da64-30c5-467f-9d7a-352ea5d04ada",
   "metadata": {},
   "outputs": [],
   "source": []
  },
  {
   "cell_type": "markdown",
   "id": "d4d96364-53c5-4736-9141-54df72f51df0",
   "metadata": {},
   "source": [
    "## 10. For this question, you're going to create some visualizations to compare GDP per capita values for the years 1990, 2000, 2010, and 2020. Start by subsetting your data to just these 4 years into a new DataFrame named gdp_decades. Using this, create the following 4 plots:\n",
    "\t* A boxplot\n",
    "\t* A barplot (check out the Barplot with Seaborn section: https://www.python-graph-gallery.com/barplot/#Seaborn)\n",
    "\t* A scatterplot\n",
    "\t* A scatterplot with a trend line overlaid (see this regplot example: https://www.python-graph-gallery.com/42-custom-linear-regression-fit-seaborn)  \n",
    "Comment on what you observe has happened to GDP values over time and the relative strengths and weaknesses of each type of plot."
   ]
  },
  {
   "cell_type": "code",
   "execution_count": 68,
   "id": "decd3478-aed3-40ad-b75a-1281c18898fa",
   "metadata": {},
   "outputs": [
    {
     "data": {
      "text/plain": [
       "'0.13.2'"
      ]
     },
     "execution_count": 68,
     "metadata": {},
     "output_type": "execute_result"
    }
   ],
   "source": [
    "##Check version of package:\n",
    "sns.__version__"
   ]
  },
  {
   "cell_type": "code",
   "execution_count": 69,
   "id": "09ec0e6b-8197-4f63-8d11-5e748f7249bf",
   "metadata": {},
   "outputs": [],
   "source": [
    "##Instructor Solution##"
   ]
  },
  {
   "cell_type": "code",
   "execution_count": 70,
   "id": "437af613-6dc6-4d60-9088-4e8d435d9fc1",
   "metadata": {},
   "outputs": [
    {
     "data": {
      "text/html": [
       "<div>\n",
       "<style scoped>\n",
       "    .dataframe tbody tr th:only-of-type {\n",
       "        vertical-align: middle;\n",
       "    }\n",
       "\n",
       "    .dataframe tbody tr th {\n",
       "        vertical-align: top;\n",
       "    }\n",
       "\n",
       "    .dataframe thead th {\n",
       "        text-align: right;\n",
       "    }\n",
       "</style>\n",
       "<table border=\"1\" class=\"dataframe\">\n",
       "  <thead>\n",
       "    <tr style=\"text-align: right;\">\n",
       "      <th></th>\n",
       "      <th>Country</th>\n",
       "      <th>Year</th>\n",
       "      <th>GDP_Per_Capita</th>\n",
       "    </tr>\n",
       "  </thead>\n",
       "  <tbody>\n",
       "    <tr>\n",
       "      <th>0</th>\n",
       "      <td>Afghanistan</td>\n",
       "      <td>2021</td>\n",
       "      <td>1517.016266</td>\n",
       "    </tr>\n",
       "    <tr>\n",
       "      <th>1</th>\n",
       "      <td>Afghanistan</td>\n",
       "      <td>2020</td>\n",
       "      <td>1968.341002</td>\n",
       "    </tr>\n",
       "    <tr>\n",
       "      <th>2</th>\n",
       "      <td>Afghanistan</td>\n",
       "      <td>2019</td>\n",
       "      <td>2079.921861</td>\n",
       "    </tr>\n",
       "    <tr>\n",
       "      <th>3</th>\n",
       "      <td>Afghanistan</td>\n",
       "      <td>2018</td>\n",
       "      <td>2060.698973</td>\n",
       "    </tr>\n",
       "    <tr>\n",
       "      <th>4</th>\n",
       "      <td>Afghanistan</td>\n",
       "      <td>2017</td>\n",
       "      <td>2096.093111</td>\n",
       "    </tr>\n",
       "    <tr>\n",
       "      <th>...</th>\n",
       "      <td>...</td>\n",
       "      <td>...</td>\n",
       "      <td>...</td>\n",
       "    </tr>\n",
       "    <tr>\n",
       "      <th>7657</th>\n",
       "      <td>Zimbabwe</td>\n",
       "      <td>1994</td>\n",
       "      <td>2670.106615</td>\n",
       "    </tr>\n",
       "    <tr>\n",
       "      <th>7658</th>\n",
       "      <td>Zimbabwe</td>\n",
       "      <td>1993</td>\n",
       "      <td>2458.783255</td>\n",
       "    </tr>\n",
       "    <tr>\n",
       "      <th>7659</th>\n",
       "      <td>Zimbabwe</td>\n",
       "      <td>1992</td>\n",
       "      <td>2468.278257</td>\n",
       "    </tr>\n",
       "    <tr>\n",
       "      <th>7660</th>\n",
       "      <td>Zimbabwe</td>\n",
       "      <td>1991</td>\n",
       "      <td>2781.787843</td>\n",
       "    </tr>\n",
       "    <tr>\n",
       "      <th>7661</th>\n",
       "      <td>Zimbabwe</td>\n",
       "      <td>1990</td>\n",
       "      <td>2704.757299</td>\n",
       "    </tr>\n",
       "  </tbody>\n",
       "</table>\n",
       "<p>7662 rows × 3 columns</p>\n",
       "</div>"
      ],
      "text/plain": [
       "          Country  Year  GDP_Per_Capita\n",
       "0     Afghanistan  2021     1517.016266\n",
       "1     Afghanistan  2020     1968.341002\n",
       "2     Afghanistan  2019     2079.921861\n",
       "3     Afghanistan  2018     2060.698973\n",
       "4     Afghanistan  2017     2096.093111\n",
       "...           ...   ...             ...\n",
       "7657     Zimbabwe  1994     2670.106615\n",
       "7658     Zimbabwe  1993     2458.783255\n",
       "7659     Zimbabwe  1992     2468.278257\n",
       "7660     Zimbabwe  1991     2781.787843\n",
       "7661     Zimbabwe  1990     2704.757299\n",
       "\n",
       "[7662 rows x 3 columns]"
      ]
     },
     "execution_count": 70,
     "metadata": {},
     "output_type": "execute_result"
    }
   ],
   "source": [
    "gdp_df"
   ]
  },
  {
   "cell_type": "code",
   "execution_count": 71,
   "id": "4763f5ff-8f83-402e-a8f0-2b01b1c86c53",
   "metadata": {},
   "outputs": [
    {
     "data": {
      "text/plain": [
       "0       False\n",
       "1       False\n",
       "2       False\n",
       "3       False\n",
       "4       False\n",
       "        ...  \n",
       "7657    False\n",
       "7658    False\n",
       "7659    False\n",
       "7660    False\n",
       "7661     True\n",
       "Name: Year, Length: 7662, dtype: bool"
      ]
     },
     "execution_count": 71,
     "metadata": {},
     "output_type": "execute_result"
    }
   ],
   "source": [
    "gdp_df['Year']==1990"
   ]
  },
  {
   "cell_type": "code",
   "execution_count": 72,
   "id": "bb213b95-e502-4269-a910-0804a272b855",
   "metadata": {},
   "outputs": [
    {
     "data": {
      "text/html": [
       "<div>\n",
       "<style scoped>\n",
       "    .dataframe tbody tr th:only-of-type {\n",
       "        vertical-align: middle;\n",
       "    }\n",
       "\n",
       "    .dataframe tbody tr th {\n",
       "        vertical-align: top;\n",
       "    }\n",
       "\n",
       "    .dataframe thead th {\n",
       "        text-align: right;\n",
       "    }\n",
       "</style>\n",
       "<table border=\"1\" class=\"dataframe\">\n",
       "  <thead>\n",
       "    <tr style=\"text-align: right;\">\n",
       "      <th></th>\n",
       "      <th>Country</th>\n",
       "      <th>Year</th>\n",
       "      <th>GDP_Per_Capita</th>\n",
       "    </tr>\n",
       "  </thead>\n",
       "  <tbody>\n",
       "    <tr>\n",
       "      <th>1</th>\n",
       "      <td>Afghanistan</td>\n",
       "      <td>2020</td>\n",
       "      <td>1968.341002</td>\n",
       "    </tr>\n",
       "    <tr>\n",
       "      <th>11</th>\n",
       "      <td>Afghanistan</td>\n",
       "      <td>2010</td>\n",
       "      <td>2026.163818</td>\n",
       "    </tr>\n",
       "    <tr>\n",
       "      <th>22</th>\n",
       "      <td>Africa Eastern and Southern</td>\n",
       "      <td>2020</td>\n",
       "      <td>3455.023119</td>\n",
       "    </tr>\n",
       "    <tr>\n",
       "      <th>32</th>\n",
       "      <td>Africa Eastern and Southern</td>\n",
       "      <td>2010</td>\n",
       "      <td>3513.315920</td>\n",
       "    </tr>\n",
       "    <tr>\n",
       "      <th>42</th>\n",
       "      <td>Africa Eastern and Southern</td>\n",
       "      <td>2000</td>\n",
       "      <td>2897.140841</td>\n",
       "    </tr>\n",
       "    <tr>\n",
       "      <th>...</th>\n",
       "      <td>...</td>\n",
       "      <td>...</td>\n",
       "      <td>...</td>\n",
       "    </tr>\n",
       "    <tr>\n",
       "      <th>7628</th>\n",
       "      <td>Zambia</td>\n",
       "      <td>1990</td>\n",
       "      <td>2290.039226</td>\n",
       "    </tr>\n",
       "    <tr>\n",
       "      <th>7631</th>\n",
       "      <td>Zimbabwe</td>\n",
       "      <td>2020</td>\n",
       "      <td>1990.319419</td>\n",
       "    </tr>\n",
       "    <tr>\n",
       "      <th>7641</th>\n",
       "      <td>Zimbabwe</td>\n",
       "      <td>2010</td>\n",
       "      <td>1799.540233</td>\n",
       "    </tr>\n",
       "    <tr>\n",
       "      <th>7651</th>\n",
       "      <td>Zimbabwe</td>\n",
       "      <td>2000</td>\n",
       "      <td>2750.601236</td>\n",
       "    </tr>\n",
       "    <tr>\n",
       "      <th>7661</th>\n",
       "      <td>Zimbabwe</td>\n",
       "      <td>1990</td>\n",
       "      <td>2704.757299</td>\n",
       "    </tr>\n",
       "  </tbody>\n",
       "</table>\n",
       "<p>921 rows × 3 columns</p>\n",
       "</div>"
      ],
      "text/plain": [
       "                          Country  Year  GDP_Per_Capita\n",
       "1                     Afghanistan  2020     1968.341002\n",
       "11                    Afghanistan  2010     2026.163818\n",
       "22    Africa Eastern and Southern  2020     3455.023119\n",
       "32    Africa Eastern and Southern  2010     3513.315920\n",
       "42    Africa Eastern and Southern  2000     2897.140841\n",
       "...                           ...   ...             ...\n",
       "7628                       Zambia  1990     2290.039226\n",
       "7631                     Zimbabwe  2020     1990.319419\n",
       "7641                     Zimbabwe  2010     1799.540233\n",
       "7651                     Zimbabwe  2000     2750.601236\n",
       "7661                     Zimbabwe  1990     2704.757299\n",
       "\n",
       "[921 rows x 3 columns]"
      ]
     },
     "execution_count": 72,
     "metadata": {},
     "output_type": "execute_result"
    }
   ],
   "source": [
    "##ALT SOLUTION 1: Create parameters via list##\n",
    "gdp_df[gdp_df['Year'].isin([1990, 2000, 2010, 2020])]"
   ]
  },
  {
   "cell_type": "code",
   "execution_count": 73,
   "id": "1489e5ca-d5bc-4739-873b-5210a7a99f74",
   "metadata": {},
   "outputs": [
    {
     "data": {
      "text/plain": [
       "[1990, 2000, 2010, 2020]"
      ]
     },
     "execution_count": 73,
     "metadata": {},
     "output_type": "execute_result"
    }
   ],
   "source": [
    "##ALT SOLUTION 2: Create a variable##\n",
    "my_years = [1990, 2000, 2010, 2020]\n",
    "my_years"
   ]
  },
  {
   "cell_type": "code",
   "execution_count": 74,
   "id": "3e388e83-0474-42ae-98ac-1318d9565367",
   "metadata": {},
   "outputs": [],
   "source": [
    "gdp_decades = gdp_df[gdp_df['Year'].isin(my_years)]\n",
    "##Create variable as gdp_decades"
   ]
  },
  {
   "cell_type": "code",
   "execution_count": 75,
   "id": "a1fe6195-2f2a-4914-aaac-85faa7b0eee1",
   "metadata": {},
   "outputs": [
    {
     "data": {
      "text/plain": [
       "Text(0.5, 1.0, 'GDP Decades Boxplot')"
      ]
     },
     "execution_count": 75,
     "metadata": {},
     "output_type": "execute_result"
    },
    {
     "data": {
      "image/png": "[encoded data removed]",
      "text/plain": [
       "<Figure size 640x480 with 1 Axes>"
      ]
     },
     "metadata": {},
     "output_type": "display_data"
    }
   ],
   "source": [
    "##Boxplot\n",
    "sns.boxplot(data = gdp_decades, \n",
    "            x= 'Year',\n",
    "            y= 'GDP_Per_Capita')\n",
    "plt.ylabel('GDP Per Capita')\n",
    "plt.title('GDP Decades Boxplot')"
   ]
  },
  {
   "cell_type": "code",
   "execution_count": 76,
   "id": "d0600496-5258-4a4c-b6ad-d440fa8c89d3",
   "metadata": {},
   "outputs": [
    {
     "data": {
      "text/plain": [
       "Text(0.5, 1.0, 'GDP Decades Barplot')"
      ]
     },
     "execution_count": 76,
     "metadata": {},
     "output_type": "execute_result"
    },
    {
     "data": {
      "image/png": "[encoded data removed]",
      "text/plain": [
       "<Figure size 640x480 with 1 Axes>"
      ]
     },
     "metadata": {},
     "output_type": "display_data"
    }
   ],
   "source": [
    "##Barplot\n",
    "sns.barplot(data = gdp_decades, \n",
    "            x= 'Year',\n",
    "            y= 'GDP_Per_Capita')\n",
    "plt.ylabel('GDP Per Capita')\n",
    "plt.title('GDP Decades Barplot')"
   ]
  },
  {
   "cell_type": "code",
   "execution_count": 77,
   "id": "7618820a-c243-48a6-b89a-aeaa69d6de55",
   "metadata": {},
   "outputs": [
    {
     "data": {
      "text/plain": [
       "Text(0.5, 1.0, 'GDP Decades Scatterplot')"
      ]
     },
     "execution_count": 77,
     "metadata": {},
     "output_type": "execute_result"
    },
    {
     "data": {
      "image/png": "[encoded data removed]",
      "text/plain": [
       "<Figure size 640x480 with 1 Axes>"
      ]
     },
     "metadata": {},
     "output_type": "display_data"
    }
   ],
   "source": [
    "##Scatterplot\n",
    "sns.scatterplot(data=gdp_decades,\n",
    "               x='Year',\n",
    "               y='GDP_Per_Capita')\n",
    "plt.ylabel('GDP Per Capita')\n",
    "plt.title('GDP Decades Scatterplot')"
   ]
  },
  {
   "cell_type": "code",
   "execution_count": 78,
   "id": "154ebcf8-b5a3-422b-b389-0742c02b2751",
   "metadata": {},
   "outputs": [
    {
     "data": {
      "text/plain": [
       "Text(0.5, 1.0, 'GDP Decades Scatterplot with Trendline')"
      ]
     },
     "execution_count": 78,
     "metadata": {},
     "output_type": "execute_result"
    },
    {
     "data": {
      "image/png": "[encoded data removed]",
      "text/plain": [
       "<Figure size 640x480 with 1 Axes>"
      ]
     },
     "metadata": {},
     "output_type": "display_data"
    }
   ],
   "source": [
    "##Scatterplot w/ Trend Line\n",
    "sns.regplot(data = gdp_decades, \n",
    "            x= 'Year',\n",
    "            y= 'GDP_Per_Capita')\n",
    "plt.ylabel('GDP Per Capita')\n",
    "plt.title('GDP Decades Scatterplot with Trendline')"
   ]
  },
  {
   "cell_type": "markdown",
   "id": "99646649-1f66-4f71-bae3-669514a889c9",
   "metadata": {},
   "source": [
    "## 11. Which country was the first to have a GDP per capita greater than $100,000?\n"
   ]
  },
  {
   "cell_type": "code",
   "execution_count": 80,
   "id": "f724fb83-0543-46bb-8147-d14e3988fcd5",
   "metadata": {},
   "outputs": [
    {
     "data": {
      "text/html": [
       "<div>\n",
       "<style scoped>\n",
       "    .dataframe tbody tr th:only-of-type {\n",
       "        vertical-align: middle;\n",
       "    }\n",
       "\n",
       "    .dataframe tbody tr th {\n",
       "        vertical-align: top;\n",
       "    }\n",
       "\n",
       "    .dataframe thead th {\n",
       "        text-align: right;\n",
       "    }\n",
       "</style>\n",
       "<table border=\"1\" class=\"dataframe\">\n",
       "  <thead>\n",
       "    <tr style=\"text-align: right;\">\n",
       "      <th></th>\n",
       "      <th>Country</th>\n",
       "      <th>Year</th>\n",
       "      <th>GDP_Per_Capita</th>\n",
       "    </tr>\n",
       "  </thead>\n",
       "  <tbody>\n",
       "    <tr>\n",
       "      <th>7302</th>\n",
       "      <td>United Arab Emirates</td>\n",
       "      <td>1990</td>\n",
       "      <td>105893.626059</td>\n",
       "    </tr>\n",
       "    <tr>\n",
       "      <th>7301</th>\n",
       "      <td>United Arab Emirates</td>\n",
       "      <td>1991</td>\n",
       "      <td>101048.696239</td>\n",
       "    </tr>\n",
       "    <tr>\n",
       "      <th>7295</th>\n",
       "      <td>United Arab Emirates</td>\n",
       "      <td>1997</td>\n",
       "      <td>100956.706467</td>\n",
       "    </tr>\n",
       "    <tr>\n",
       "      <th>4167</th>\n",
       "      <td>Luxembourg</td>\n",
       "      <td>2001</td>\n",
       "      <td>101143.147977</td>\n",
       "    </tr>\n",
       "    <tr>\n",
       "      <th>4166</th>\n",
       "      <td>Luxembourg</td>\n",
       "      <td>2002</td>\n",
       "      <td>103317.331098</td>\n",
       "    </tr>\n",
       "    <tr>\n",
       "      <th>4165</th>\n",
       "      <td>Luxembourg</td>\n",
       "      <td>2003</td>\n",
       "      <td>104743.000088</td>\n",
       "    </tr>\n",
       "    <tr>\n",
       "      <th>4164</th>\n",
       "      <td>Luxembourg</td>\n",
       "      <td>2004</td>\n",
       "      <td>107634.837198</td>\n",
       "    </tr>\n",
       "    <tr>\n",
       "      <th>4163</th>\n",
       "      <td>Luxembourg</td>\n",
       "      <td>2005</td>\n",
       "      <td>108632.360016</td>\n",
       "    </tr>\n",
       "    <tr>\n",
       "      <th>4162</th>\n",
       "      <td>Luxembourg</td>\n",
       "      <td>2006</td>\n",
       "      <td>113346.035782</td>\n",
       "    </tr>\n",
       "    <tr>\n",
       "      <th>4161</th>\n",
       "      <td>Luxembourg</td>\n",
       "      <td>2007</td>\n",
       "      <td>120647.822959</td>\n",
       "    </tr>\n",
       "    <tr>\n",
       "      <th>4160</th>\n",
       "      <td>Luxembourg</td>\n",
       "      <td>2008</td>\n",
       "      <td>118154.667184</td>\n",
       "    </tr>\n",
       "    <tr>\n",
       "      <th>4159</th>\n",
       "      <td>Luxembourg</td>\n",
       "      <td>2009</td>\n",
       "      <td>112230.081410</td>\n",
       "    </tr>\n",
       "    <tr>\n",
       "      <th>5756</th>\n",
       "      <td>Qatar</td>\n",
       "      <td>2010</td>\n",
       "      <td>103902.519310</td>\n",
       "    </tr>\n",
       "    <tr>\n",
       "      <th>4158</th>\n",
       "      <td>Luxembourg</td>\n",
       "      <td>2010</td>\n",
       "      <td>114343.988089</td>\n",
       "    </tr>\n",
       "    <tr>\n",
       "      <th>4191</th>\n",
       "      <td>Macao SAR, China</td>\n",
       "      <td>2010</td>\n",
       "      <td>114042.495308</td>\n",
       "    </tr>\n",
       "    <tr>\n",
       "      <th>4190</th>\n",
       "      <td>Macao SAR, China</td>\n",
       "      <td>2011</td>\n",
       "      <td>135365.387353</td>\n",
       "    </tr>\n",
       "    <tr>\n",
       "      <th>5755</th>\n",
       "      <td>Qatar</td>\n",
       "      <td>2011</td>\n",
       "      <td>111879.747777</td>\n",
       "    </tr>\n",
       "    <tr>\n",
       "      <th>4157</th>\n",
       "      <td>Luxembourg</td>\n",
       "      <td>2011</td>\n",
       "      <td>112998.390477</td>\n",
       "    </tr>\n",
       "    <tr>\n",
       "      <th>4189</th>\n",
       "      <td>Macao SAR, China</td>\n",
       "      <td>2012</td>\n",
       "      <td>144891.341893</td>\n",
       "    </tr>\n",
       "    <tr>\n",
       "      <th>5754</th>\n",
       "      <td>Qatar</td>\n",
       "      <td>2012</td>\n",
       "      <td>110931.506472</td>\n",
       "    </tr>\n",
       "    <tr>\n",
       "      <th>4156</th>\n",
       "      <td>Luxembourg</td>\n",
       "      <td>2012</td>\n",
       "      <td>112137.135491</td>\n",
       "    </tr>\n",
       "    <tr>\n",
       "      <th>4188</th>\n",
       "      <td>Macao SAR, China</td>\n",
       "      <td>2013</td>\n",
       "      <td>157602.482546</td>\n",
       "    </tr>\n",
       "    <tr>\n",
       "      <th>5753</th>\n",
       "      <td>Qatar</td>\n",
       "      <td>2013</td>\n",
       "      <td>109625.629601</td>\n",
       "    </tr>\n",
       "    <tr>\n",
       "      <th>4155</th>\n",
       "      <td>Luxembourg</td>\n",
       "      <td>2013</td>\n",
       "      <td>113050.663254</td>\n",
       "    </tr>\n",
       "    <tr>\n",
       "      <th>4154</th>\n",
       "      <td>Luxembourg</td>\n",
       "      <td>2014</td>\n",
       "      <td>113313.578898</td>\n",
       "    </tr>\n",
       "    <tr>\n",
       "      <th>4187</th>\n",
       "      <td>Macao SAR, China</td>\n",
       "      <td>2014</td>\n",
       "      <td>151616.402364</td>\n",
       "    </tr>\n",
       "    <tr>\n",
       "      <th>5752</th>\n",
       "      <td>Qatar</td>\n",
       "      <td>2014</td>\n",
       "      <td>106141.326189</td>\n",
       "    </tr>\n",
       "    <tr>\n",
       "      <th>4186</th>\n",
       "      <td>Macao SAR, China</td>\n",
       "      <td>2015</td>\n",
       "      <td>116855.533716</td>\n",
       "    </tr>\n",
       "    <tr>\n",
       "      <th>4153</th>\n",
       "      <td>Luxembourg</td>\n",
       "      <td>2015</td>\n",
       "      <td>113182.728563</td>\n",
       "    </tr>\n",
       "    <tr>\n",
       "      <th>5751</th>\n",
       "      <td>Qatar</td>\n",
       "      <td>2015</td>\n",
       "      <td>101971.989608</td>\n",
       "    </tr>\n",
       "    <tr>\n",
       "      <th>4185</th>\n",
       "      <td>Macao SAR, China</td>\n",
       "      <td>2016</td>\n",
       "      <td>113941.669777</td>\n",
       "    </tr>\n",
       "    <tr>\n",
       "      <th>4152</th>\n",
       "      <td>Luxembourg</td>\n",
       "      <td>2016</td>\n",
       "      <td>116283.699681</td>\n",
       "    </tr>\n",
       "    <tr>\n",
       "      <th>4184</th>\n",
       "      <td>Macao SAR, China</td>\n",
       "      <td>2017</td>\n",
       "      <td>122977.508955</td>\n",
       "    </tr>\n",
       "    <tr>\n",
       "      <th>4151</th>\n",
       "      <td>Luxembourg</td>\n",
       "      <td>2017</td>\n",
       "      <td>114985.842236</td>\n",
       "    </tr>\n",
       "    <tr>\n",
       "      <th>4183</th>\n",
       "      <td>Macao SAR, China</td>\n",
       "      <td>2018</td>\n",
       "      <td>128437.322962</td>\n",
       "    </tr>\n",
       "    <tr>\n",
       "      <th>4150</th>\n",
       "      <td>Luxembourg</td>\n",
       "      <td>2018</td>\n",
       "      <td>114164.468558</td>\n",
       "    </tr>\n",
       "    <tr>\n",
       "      <th>4149</th>\n",
       "      <td>Luxembourg</td>\n",
       "      <td>2019</td>\n",
       "      <td>114542.496934</td>\n",
       "    </tr>\n",
       "    <tr>\n",
       "      <th>4182</th>\n",
       "      <td>Macao SAR, China</td>\n",
       "      <td>2019</td>\n",
       "      <td>122822.124456</td>\n",
       "    </tr>\n",
       "    <tr>\n",
       "      <th>4148</th>\n",
       "      <td>Luxembourg</td>\n",
       "      <td>2020</td>\n",
       "      <td>111751.314751</td>\n",
       "    </tr>\n",
       "    <tr>\n",
       "      <th>4147</th>\n",
       "      <td>Luxembourg</td>\n",
       "      <td>2021</td>\n",
       "      <td>115683.493708</td>\n",
       "    </tr>\n",
       "    <tr>\n",
       "      <th>6107</th>\n",
       "      <td>Singapore</td>\n",
       "      <td>2021</td>\n",
       "      <td>107741.118436</td>\n",
       "    </tr>\n",
       "    <tr>\n",
       "      <th>3278</th>\n",
       "      <td>Ireland</td>\n",
       "      <td>2021</td>\n",
       "      <td>102785.490239</td>\n",
       "    </tr>\n",
       "    <tr>\n",
       "      <th>4146</th>\n",
       "      <td>Luxembourg</td>\n",
       "      <td>2022</td>\n",
       "      <td>115541.774828</td>\n",
       "    </tr>\n",
       "    <tr>\n",
       "      <th>6106</th>\n",
       "      <td>Singapore</td>\n",
       "      <td>2022</td>\n",
       "      <td>108036.110993</td>\n",
       "    </tr>\n",
       "    <tr>\n",
       "      <th>3277</th>\n",
       "      <td>Ireland</td>\n",
       "      <td>2022</td>\n",
       "      <td>113870.785550</td>\n",
       "    </tr>\n",
       "  </tbody>\n",
       "</table>\n",
       "</div>"
      ],
      "text/plain": [
       "                   Country  Year  GDP_Per_Capita\n",
       "7302  United Arab Emirates  1990   105893.626059\n",
       "7301  United Arab Emirates  1991   101048.696239\n",
       "7295  United Arab Emirates  1997   100956.706467\n",
       "4167            Luxembourg  2001   101143.147977\n",
       "4166            Luxembourg  2002   103317.331098\n",
       "4165            Luxembourg  2003   104743.000088\n",
       "4164            Luxembourg  2004   107634.837198\n",
       "4163            Luxembourg  2005   108632.360016\n",
       "4162            Luxembourg  2006   113346.035782\n",
       "4161            Luxembourg  2007   120647.822959\n",
       "4160            Luxembourg  2008   118154.667184\n",
       "4159            Luxembourg  2009   112230.081410\n",
       "5756                 Qatar  2010   103902.519310\n",
       "4158            Luxembourg  2010   114343.988089\n",
       "4191      Macao SAR, China  2010   114042.495308\n",
       "4190      Macao SAR, China  2011   135365.387353\n",
       "5755                 Qatar  2011   111879.747777\n",
       "4157            Luxembourg  2011   112998.390477\n",
       "4189      Macao SAR, China  2012   144891.341893\n",
       "5754                 Qatar  2012   110931.506472\n",
       "4156            Luxembourg  2012   112137.135491\n",
       "4188      Macao SAR, China  2013   157602.482546\n",
       "5753                 Qatar  2013   109625.629601\n",
       "4155            Luxembourg  2013   113050.663254\n",
       "4154            Luxembourg  2014   113313.578898\n",
       "4187      Macao SAR, China  2014   151616.402364\n",
       "5752                 Qatar  2014   106141.326189\n",
       "4186      Macao SAR, China  2015   116855.533716\n",
       "4153            Luxembourg  2015   113182.728563\n",
       "5751                 Qatar  2015   101971.989608\n",
       "4185      Macao SAR, China  2016   113941.669777\n",
       "4152            Luxembourg  2016   116283.699681\n",
       "4184      Macao SAR, China  2017   122977.508955\n",
       "4151            Luxembourg  2017   114985.842236\n",
       "4183      Macao SAR, China  2018   128437.322962\n",
       "4150            Luxembourg  2018   114164.468558\n",
       "4149            Luxembourg  2019   114542.496934\n",
       "4182      Macao SAR, China  2019   122822.124456\n",
       "4148            Luxembourg  2020   111751.314751\n",
       "4147            Luxembourg  2021   115683.493708\n",
       "6107             Singapore  2021   107741.118436\n",
       "3278               Ireland  2021   102785.490239\n",
       "4146            Luxembourg  2022   115541.774828\n",
       "6106             Singapore  2022   108036.110993\n",
       "3277               Ireland  2022   113870.785550"
      ]
     },
     "execution_count": 80,
     "metadata": {},
     "output_type": "execute_result"
    }
   ],
   "source": [
    "##gdp_df[gdp_df['GDP_Per_Capita']\n",
    "\n",
    "gdp_df[gdp_df['GDP_Per_Capita']>100000].sort_values('Year')"
   ]
  },
  {
   "cell_type": "markdown",
   "id": "811457b2-9414-4f77-9d71-48af32b95689",
   "metadata": {},
   "source": [
    "##ANSWER: UAE"
   ]
  },
  {
   "cell_type": "markdown",
   "id": "02b4fc22-7a57-47d2-be60-e374ee03b448",
   "metadata": {},
   "source": [
    "## 12. Which country had the highest GDP per capita in 2020? Create a plot showing how this country's GDP per capita has changed over the timespan of the dataset."
   ]
  },
  {
   "cell_type": "code",
   "execution_count": 83,
   "id": "61e31010-8886-4ffb-b7f7-b89e849be94a",
   "metadata": {},
   "outputs": [],
   "source": [
    "##Start Instructor Solution:##"
   ]
  },
  {
   "cell_type": "code",
   "execution_count": 84,
   "id": "323c5631-b54b-4d31-8ec3-38af7dfecbc8",
   "metadata": {},
   "outputs": [],
   "source": [
    "top_country = gdp_df[gdp_df['Year']==2020].nlargest(1,'GDP_Per_Capita')"
   ]
  },
  {
   "cell_type": "code",
   "execution_count": 85,
   "id": "db9e5052-d163-499b-8752-7545f599061d",
   "metadata": {},
   "outputs": [
    {
     "data": {
      "text/plain": [
       "4148    Luxembourg\n",
       "Name: Country, dtype: object"
      ]
     },
     "execution_count": 85,
     "metadata": {},
     "output_type": "execute_result"
    }
   ],
   "source": [
    "gdp_df[gdp_df['Year']==2020].nlargest(1,'GDP_Per_Capita')['Country']"
   ]
  },
  {
   "cell_type": "code",
   "execution_count": 86,
   "id": "5185b413-c3b0-41df-aace-0a34978ef6a0",
   "metadata": {},
   "outputs": [
    {
     "data": {
      "text/plain": [
       "'Luxembourg'"
      ]
     },
     "execution_count": 86,
     "metadata": {},
     "output_type": "execute_result"
    }
   ],
   "source": [
    "gdp_df[gdp_df['Year']==2020].nlargest(1,'GDP_Per_Capita')['Country'].tolist()[0]"
   ]
  },
  {
   "cell_type": "code",
   "execution_count": 87,
   "id": "3a614e7c-567a-4bd0-9f51-b5384e30d8d5",
   "metadata": {},
   "outputs": [
    {
     "data": {
      "text/plain": [
       "<Axes: xlabel='Year'>"
      ]
     },
     "execution_count": 87,
     "metadata": {},
     "output_type": "execute_result"
    },
    {
     "data": {
      "image/png": "[encoded data removed]",
      "text/plain": [
       "<Figure size 640x480 with 1 Axes>"
      ]
     },
     "metadata": {},
     "output_type": "display_data"
    }
   ],
   "source": [
    "#Create plot for top country:\n",
    "top_country.plot(x='Year',y='GDP_Per_Capita', kind='line')"
   ]
  },
  {
   "cell_type": "markdown",
   "id": "22e39f56-8551-4007-8c85-628357031470",
   "metadata": {},
   "source": [
    "## 13. Which country had the lowest GDP per capita in 2020? Create a plot showing how this country's GDP per capita has changed over the timespan of the dataset. **Bonus question:** Is it true in general that coutries had a higher GDP per capita in 2020 than in 1990? Which countries had lower GDP per capita in 2020 than in 1990?\n"
   ]
  },
  {
   "cell_type": "code",
   "execution_count": 89,
   "id": "7b505ac3-2bc4-4901-b35b-7a43f6dff542",
   "metadata": {},
   "outputs": [
    {
     "name": "stdout",
     "output_type": "stream",
     "text": [
      "                       Country  Year  GDP_Per_Capita\n",
      "973                    Burundi  2020      711.355263\n",
      "1217  Central African Republic  2020      847.765012\n",
      "1630           Dem. Rep. Congo  2020     1044.071214\n",
      "6273                   Somalia  2020     1127.418534\n",
      "5074                     Niger  2020     1214.546556\n",
      "...                        ...   ...             ...\n",
      "681                    Bermuda  2020    76117.804744\n",
      "5746                     Qatar  2020    89019.069857\n",
      "3279                   Ireland  2020    91356.855054\n",
      "6108                 Singapore  2020    94910.101431\n",
      "4148                Luxembourg  2020   111751.314751\n",
      "\n",
      "[242 rows x 3 columns]\n"
     ]
    }
   ],
   "source": [
    "gdp_2020 = gdp_df[gdp_df['Year']==2020].sort_values('GDP_Per_Capita', ascending= True)\n",
    "print(gdp_2020)"
   ]
  },
  {
   "cell_type": "code",
   "execution_count": 90,
   "id": "3b51e8a3-3c4b-4371-9674-48c26c05020b",
   "metadata": {},
   "outputs": [
    {
     "data": {
      "text/plain": [
       "Text(0.5, 1.0, 'Burundi GDP Per Capita 1990-2022')"
      ]
     },
     "execution_count": 90,
     "metadata": {},
     "output_type": "execute_result"
    },
    {
     "data": {
      "image/png": "[encoded data removed]",
      "text/plain": [
       "<Figure size 640x480 with 1 Axes>"
      ]
     },
     "metadata": {},
     "output_type": "display_data"
    }
   ],
   "source": [
    "##Create plot for Burundi \n",
    "burundi_gdp = gdp_df[gdp_df['Country']=='Burundi'].sort_values(['Year','GDP_Per_Capita'])\n",
    "burundi_gdp.plot(x='Year',y='GDP_Per_Capita', kind='line')\n",
    "plt.ylabel('GDP Per Capita')\n",
    "plt.title('Burundi GDP Per Capita 1990-2022')\n"
   ]
  },
  {
   "cell_type": "code",
   "execution_count": 91,
   "id": "d961727e-4080-484f-bd01-e136135de2f3",
   "metadata": {
    "scrolled": true
   },
   "outputs": [
    {
     "name": "stdout",
     "output_type": "stream",
     "text": [
      "                   Country  Year  GDP_Per_Capita\n",
      "4854            Mozambique  1990      460.123697\n",
      "4887               Myanmar  1990      581.613311\n",
      "2127              Ethiopia  1990      767.170419\n",
      "7236                Uganda  1990      901.660809\n",
      "5865                Rwanda  1990      933.013443\n",
      "...                    ...   ...             ...\n",
      "6775           Switzerland  1990    56232.026080\n",
      "711                Bermuda  1990    65961.406278\n",
      "904                 Brunei  1990    70358.724094\n",
      "4178            Luxembourg  1990    70860.819124\n",
      "7302  United Arab Emirates  1990   105893.626059\n",
      "\n",
      "[207 rows x 3 columns]\n"
     ]
    }
   ],
   "source": [
    "gdp_1990 = gdp_df[gdp_df['Year']==1990].sort_values('GDP_Per_Capita', ascending= True)\n",
    "print(gdp_1990)"
   ]
  },
  {
   "cell_type": "code",
   "execution_count": 92,
   "id": "9893b515-f414-4a23-ae7e-29526a305ceb",
   "metadata": {},
   "outputs": [],
   "source": [
    "##Attempt at Bonus Quest:##\n",
    "##Try merging 2020 and 1990 DF and use filter (2020 < 1990)\n",
    "\n",
    "#gdp_2020['GDP_Per_Capita'] < gdp_1990['GDP_Per_Capita']"
   ]
  },
  {
   "cell_type": "code",
   "execution_count": 93,
   "id": "1bcb7f87-a9c2-4d6d-940d-21242213b72b",
   "metadata": {},
   "outputs": [],
   "source": [
    "##Elizabeth's Solution:"
   ]
  },
  {
   "cell_type": "code",
   "execution_count": 94,
   "id": "21c54a5d-b09b-4424-a7d4-66dd85ab8305",
   "metadata": {},
   "outputs": [
    {
     "data": {
      "text/html": [
       "<div>\n",
       "<style scoped>\n",
       "    .dataframe tbody tr th:only-of-type {\n",
       "        vertical-align: middle;\n",
       "    }\n",
       "\n",
       "    .dataframe tbody tr th {\n",
       "        vertical-align: top;\n",
       "    }\n",
       "\n",
       "    .dataframe thead th {\n",
       "        text-align: right;\n",
       "    }\n",
       "</style>\n",
       "<table border=\"1\" class=\"dataframe\">\n",
       "  <thead>\n",
       "    <tr style=\"text-align: right;\">\n",
       "      <th></th>\n",
       "      <th>Country</th>\n",
       "      <th>Year</th>\n",
       "      <th>GDP_Per_Capita</th>\n",
       "    </tr>\n",
       "  </thead>\n",
       "  <tbody>\n",
       "    <tr>\n",
       "      <th>973</th>\n",
       "      <td>Burundi</td>\n",
       "      <td>2020</td>\n",
       "      <td>711.355263</td>\n",
       "    </tr>\n",
       "  </tbody>\n",
       "</table>\n",
       "</div>"
      ],
      "text/plain": [
       "     Country  Year  GDP_Per_Capita\n",
       "973  Burundi  2020      711.355263"
      ]
     },
     "execution_count": 94,
     "metadata": {},
     "output_type": "execute_result"
    }
   ],
   "source": [
    "gdp_df[gdp_df['Year']==2020].nsmallest(1, 'GDP_Per_Capita')"
   ]
  },
  {
   "cell_type": "code",
   "execution_count": 95,
   "id": "7144a132-ef83-40bc-9103-e9da9518011f",
   "metadata": {},
   "outputs": [
    {
     "data": {
      "text/html": [
       "<div>\n",
       "<style scoped>\n",
       "    .dataframe tbody tr th:only-of-type {\n",
       "        vertical-align: middle;\n",
       "    }\n",
       "\n",
       "    .dataframe tbody tr th {\n",
       "        vertical-align: top;\n",
       "    }\n",
       "\n",
       "    .dataframe thead th {\n",
       "        text-align: right;\n",
       "    }\n",
       "</style>\n",
       "<table border=\"1\" class=\"dataframe\">\n",
       "  <thead>\n",
       "    <tr style=\"text-align: right;\">\n",
       "      <th></th>\n",
       "      <th>Country</th>\n",
       "      <th>Year</th>\n",
       "      <th>GDP_Per_Capita</th>\n",
       "    </tr>\n",
       "  </thead>\n",
       "  <tbody>\n",
       "    <tr>\n",
       "      <th>4854</th>\n",
       "      <td>Mozambique</td>\n",
       "      <td>1990</td>\n",
       "      <td>460.123697</td>\n",
       "    </tr>\n",
       "  </tbody>\n",
       "</table>\n",
       "</div>"
      ],
      "text/plain": [
       "         Country  Year  GDP_Per_Capita\n",
       "4854  Mozambique  1990      460.123697"
      ]
     },
     "execution_count": 95,
     "metadata": {},
     "output_type": "execute_result"
    }
   ],
   "source": [
    "gdp_df[gdp_df['Year']==1990].nsmallest(1, 'GDP_Per_Capita')"
   ]
  },
  {
   "cell_type": "markdown",
   "id": "b00be7d7-3112-4a5c-8769-4c6a058e6db8",
   "metadata": {},
   "source": [
    "## 14. Read in the internet use dataset into a DataFrame named `internet_df`. You will likely get errors when doing this. Check the arguments for the read_csv function to find ones that can help correct the errors (https://pandas.pydata.org/docs/reference/api/pandas.read_csv.html) Once you are able to read it in, take per a look at the top and bottom few rows to make sure that it has been read in correctly. Also, check the datatypes of the columns.\n"
   ]
  },
  {
   "cell_type": "code",
   "execution_count": 97,
   "id": "85639ec5-6a12-4c6a-9224-88c2952fde6d",
   "metadata": {},
   "outputs": [
    {
     "name": "stdout",
     "output_type": "stream",
     "text": [
      "     Country or Area  Year      Value Value Footnotes\n",
      "0        Afghanistan  2019  17.600000               1\n",
      "1        Afghanistan  2018  16.800000               2\n",
      "2        Afghanistan  2017  13.500000               3\n",
      "3        Afghanistan  2016  11.000000               4\n",
      "4        Afghanistan  2015   8.260000               4\n",
      "...              ...   ...        ...             ...\n",
      "6078        Zimbabwe  1997   0.033080             NaN\n",
      "6079        Zimbabwe  1996   0.016790             NaN\n",
      "6080        Zimbabwe  1995   0.007684             NaN\n",
      "6081        Zimbabwe  1994   0.001739             NaN\n",
      "6082        Zimbabwe  1990   0.000000             NaN\n",
      "\n",
      "[6083 rows x 4 columns]\n"
     ]
    }
   ],
   "source": [
    "internet_df = pd.read_csv('../data/internet_use.csv', nrows=6083)\n",
    "print(internet_df)"
   ]
  },
  {
   "cell_type": "code",
   "execution_count": 98,
   "id": "e782394a-2bc1-446b-926a-d98b4cf0fb46",
   "metadata": {},
   "outputs": [
    {
     "name": "stdout",
     "output_type": "stream",
     "text": [
      "Country or Area     object\n",
      "Year                 int64\n",
      "Value              float64\n",
      "Value Footnotes     object\n",
      "dtype: object\n"
     ]
    }
   ],
   "source": [
    "print(internet_df.dtypes)"
   ]
  },
  {
   "cell_type": "code",
   "execution_count": 99,
   "id": "87d6ab96-9d6f-4003-9ced-c89643e7a682",
   "metadata": {},
   "outputs": [
    {
     "data": {
      "text/html": [
       "<div>\n",
       "<style scoped>\n",
       "    .dataframe tbody tr th:only-of-type {\n",
       "        vertical-align: middle;\n",
       "    }\n",
       "\n",
       "    .dataframe tbody tr th {\n",
       "        vertical-align: top;\n",
       "    }\n",
       "\n",
       "    .dataframe thead th {\n",
       "        text-align: right;\n",
       "    }\n",
       "</style>\n",
       "<table border=\"1\" class=\"dataframe\">\n",
       "  <thead>\n",
       "    <tr style=\"text-align: right;\">\n",
       "      <th></th>\n",
       "      <th>Country or Area</th>\n",
       "      <th>Year</th>\n",
       "      <th>Value</th>\n",
       "      <th>Value Footnotes</th>\n",
       "    </tr>\n",
       "  </thead>\n",
       "  <tbody>\n",
       "    <tr>\n",
       "      <th>0</th>\n",
       "      <td>Afghanistan</td>\n",
       "      <td>2019</td>\n",
       "      <td>17.60</td>\n",
       "      <td>1</td>\n",
       "    </tr>\n",
       "    <tr>\n",
       "      <th>1</th>\n",
       "      <td>Afghanistan</td>\n",
       "      <td>2018</td>\n",
       "      <td>16.80</td>\n",
       "      <td>2</td>\n",
       "    </tr>\n",
       "    <tr>\n",
       "      <th>2</th>\n",
       "      <td>Afghanistan</td>\n",
       "      <td>2017</td>\n",
       "      <td>13.50</td>\n",
       "      <td>3</td>\n",
       "    </tr>\n",
       "    <tr>\n",
       "      <th>3</th>\n",
       "      <td>Afghanistan</td>\n",
       "      <td>2016</td>\n",
       "      <td>11.00</td>\n",
       "      <td>4</td>\n",
       "    </tr>\n",
       "    <tr>\n",
       "      <th>4</th>\n",
       "      <td>Afghanistan</td>\n",
       "      <td>2015</td>\n",
       "      <td>8.26</td>\n",
       "      <td>4</td>\n",
       "    </tr>\n",
       "  </tbody>\n",
       "</table>\n",
       "</div>"
      ],
      "text/plain": [
       "  Country or Area  Year  Value Value Footnotes\n",
       "0     Afghanistan  2019  17.60               1\n",
       "1     Afghanistan  2018  16.80               2\n",
       "2     Afghanistan  2017  13.50               3\n",
       "3     Afghanistan  2016  11.00               4\n",
       "4     Afghanistan  2015   8.26               4"
      ]
     },
     "execution_count": 99,
     "metadata": {},
     "output_type": "execute_result"
    }
   ],
   "source": [
    "internet_df.head()"
   ]
  },
  {
   "cell_type": "code",
   "execution_count": 100,
   "id": "cc7c3921-e0b0-4044-989b-181c52ea3b39",
   "metadata": {},
   "outputs": [
    {
     "data": {
      "text/html": [
       "<div>\n",
       "<style scoped>\n",
       "    .dataframe tbody tr th:only-of-type {\n",
       "        vertical-align: middle;\n",
       "    }\n",
       "\n",
       "    .dataframe tbody tr th {\n",
       "        vertical-align: top;\n",
       "    }\n",
       "\n",
       "    .dataframe thead th {\n",
       "        text-align: right;\n",
       "    }\n",
       "</style>\n",
       "<table border=\"1\" class=\"dataframe\">\n",
       "  <thead>\n",
       "    <tr style=\"text-align: right;\">\n",
       "      <th></th>\n",
       "      <th>Country or Area</th>\n",
       "      <th>Year</th>\n",
       "      <th>Value</th>\n",
       "      <th>Value Footnotes</th>\n",
       "    </tr>\n",
       "  </thead>\n",
       "  <tbody>\n",
       "    <tr>\n",
       "      <th>6078</th>\n",
       "      <td>Zimbabwe</td>\n",
       "      <td>1997</td>\n",
       "      <td>0.033080</td>\n",
       "      <td>NaN</td>\n",
       "    </tr>\n",
       "    <tr>\n",
       "      <th>6079</th>\n",
       "      <td>Zimbabwe</td>\n",
       "      <td>1996</td>\n",
       "      <td>0.016790</td>\n",
       "      <td>NaN</td>\n",
       "    </tr>\n",
       "    <tr>\n",
       "      <th>6080</th>\n",
       "      <td>Zimbabwe</td>\n",
       "      <td>1995</td>\n",
       "      <td>0.007684</td>\n",
       "      <td>NaN</td>\n",
       "    </tr>\n",
       "    <tr>\n",
       "      <th>6081</th>\n",
       "      <td>Zimbabwe</td>\n",
       "      <td>1994</td>\n",
       "      <td>0.001739</td>\n",
       "      <td>NaN</td>\n",
       "    </tr>\n",
       "    <tr>\n",
       "      <th>6082</th>\n",
       "      <td>Zimbabwe</td>\n",
       "      <td>1990</td>\n",
       "      <td>0.000000</td>\n",
       "      <td>NaN</td>\n",
       "    </tr>\n",
       "  </tbody>\n",
       "</table>\n",
       "</div>"
      ],
      "text/plain": [
       "     Country or Area  Year     Value Value Footnotes\n",
       "6078        Zimbabwe  1997  0.033080             NaN\n",
       "6079        Zimbabwe  1996  0.016790             NaN\n",
       "6080        Zimbabwe  1995  0.007684             NaN\n",
       "6081        Zimbabwe  1994  0.001739             NaN\n",
       "6082        Zimbabwe  1990  0.000000             NaN"
      ]
     },
     "execution_count": 100,
     "metadata": {},
     "output_type": "execute_result"
    }
   ],
   "source": [
    "internet_df.tail()"
   ]
  },
  {
   "cell_type": "markdown",
   "id": "580996ed-79cf-4ae5-9718-9f06d7cf9e4d",
   "metadata": {},
   "source": [
    "## 15. Drop the `Value Footnotes` column and rename the remaining three to 'Country', 'Year', and 'Internet_Users_Pct'."
   ]
  },
  {
   "cell_type": "code",
   "execution_count": 102,
   "id": "47785714-36a0-40e7-a9b8-3d5b99d7c5a1",
   "metadata": {},
   "outputs": [],
   "source": [
    "internet_drop = internet_df.drop(internet_df.columns[3], axis=1)"
   ]
  },
  {
   "cell_type": "code",
   "execution_count": 103,
   "id": "5f63ab5a-e158-4562-96e3-2c5656a5e6a5",
   "metadata": {
    "scrolled": true
   },
   "outputs": [
    {
     "name": "stdout",
     "output_type": "stream",
     "text": [
      "          Country  Year  Internet_Users_Pct\n",
      "0     Afghanistan  2019           17.600000\n",
      "1     Afghanistan  2018           16.800000\n",
      "2     Afghanistan  2017           13.500000\n",
      "3     Afghanistan  2016           11.000000\n",
      "4     Afghanistan  2015            8.260000\n",
      "...           ...   ...                 ...\n",
      "6078     Zimbabwe  1997            0.033080\n",
      "6079     Zimbabwe  1996            0.016790\n",
      "6080     Zimbabwe  1995            0.007684\n",
      "6081     Zimbabwe  1994            0.001739\n",
      "6082     Zimbabwe  1990            0.000000\n",
      "\n",
      "[6083 rows x 3 columns]\n"
     ]
    }
   ],
   "source": [
    "internet_df = internet_drop.rename(columns={internet_drop.columns[0]:'Country', internet_drop.columns[2]:'Internet_Users_Pct'})\n",
    "print(internet_df)"
   ]
  },
  {
   "cell_type": "code",
   "execution_count": 104,
   "id": "92c4b4a5-d3c2-4ccf-87f4-241b907b4b12",
   "metadata": {},
   "outputs": [
    {
     "data": {
      "text/plain": [
       "(6083, 3)"
      ]
     },
     "execution_count": 104,
     "metadata": {},
     "output_type": "execute_result"
    }
   ],
   "source": [
    "internet_df.shape"
   ]
  },
  {
   "cell_type": "markdown",
   "id": "1deaad0e-4b74-4339-a541-46a4f9c84783",
   "metadata": {},
   "source": [
    "## 16. Look at the number of observations in this dataset per year. What do you notice?"
   ]
  },
  {
   "cell_type": "code",
   "execution_count": 106,
   "id": "b73fd3d8-b9bb-4791-b2a6-37870102f83f",
   "metadata": {},
   "outputs": [
    {
     "name": "stdout",
     "output_type": "stream",
     "text": [
      "<class 'pandas.core.frame.DataFrame'>\n",
      "RangeIndex: 6083 entries, 0 to 6082\n",
      "Data columns (total 3 columns):\n",
      " #   Column              Non-Null Count  Dtype  \n",
      "---  ------              --------------  -----  \n",
      " 0   Country             6083 non-null   object \n",
      " 1   Year                6083 non-null   int64  \n",
      " 2   Internet_Users_Pct  6083 non-null   float64\n",
      "dtypes: float64(1), int64(1), object(1)\n",
      "memory usage: 142.7+ KB\n"
     ]
    }
   ],
   "source": [
    "internet_df.info()"
   ]
  },
  {
   "cell_type": "code",
   "execution_count": 107,
   "id": "2b388876-7cb9-4958-8fd2-81e04bc0139c",
   "metadata": {},
   "outputs": [
    {
     "data": {
      "text/plain": [
       "Country                232\n",
       "Year                    34\n",
       "Internet_Users_Pct    4935\n",
       "dtype: int64"
      ]
     },
     "execution_count": 107,
     "metadata": {},
     "output_type": "execute_result"
    }
   ],
   "source": [
    "internet_df.nunique()"
   ]
  },
  {
   "cell_type": "code",
   "execution_count": 108,
   "id": "ce5b9d59-dde0-4533-8d5b-e5f59128eec6",
   "metadata": {},
   "outputs": [
    {
     "data": {
      "text/plain": [
       "Year\n",
       "1990    226\n",
       "2007    217\n",
       "2011    214\n",
       "2008    214\n",
       "2009    214\n",
       "2002    214\n",
       "2006    212\n",
       "2001    212\n",
       "2005    212\n",
       "2004    210\n",
       "2000    210\n",
       "2010    209\n",
       "2012    209\n",
       "2003    208\n",
       "1999    207\n",
       "2016    206\n",
       "2017    205\n",
       "2014    204\n",
       "2015    203\n",
       "2013    203\n",
       "1998    195\n",
       "1997    188\n",
       "2021    186\n",
       "2020    186\n",
       "2019    185\n",
       "2022    184\n",
       "1996    177\n",
       "2018    174\n",
       "1995    141\n",
       "1994     92\n",
       "1993     66\n",
       "1992     50\n",
       "1991     39\n",
       "2023     11\n",
       "Name: count, dtype: int64"
      ]
     },
     "execution_count": 108,
     "metadata": {},
     "output_type": "execute_result"
    }
   ],
   "source": [
    "internet_df['Year'].value_counts()"
   ]
  },
  {
   "cell_type": "markdown",
   "id": "96ea3703-02b7-432f-b85b-1cee82c5d89a",
   "metadata": {},
   "source": [
    "##ANSWER: "
   ]
  },
  {
   "cell_type": "markdown",
   "id": "93e0c76a-a1fd-4e54-9946-d3328aa2c320",
   "metadata": {},
   "source": [
    "\n",
    "## 17. What is the first year to have a non-zero internet users percentage value?\n"
   ]
  },
  {
   "cell_type": "code",
   "execution_count": 111,
   "id": "3ef48760-ecb2-435c-a7f3-9798673ea12c",
   "metadata": {},
   "outputs": [],
   "source": [
    "##internet_df.groupby('Year')[.sort_values(Ascending=True)\n",
    "\n",
    "##My Code below:"
   ]
  },
  {
   "cell_type": "code",
   "execution_count": 112,
   "id": "f7b75390-a39b-4d95-a035-9073943da96a",
   "metadata": {},
   "outputs": [],
   "source": [
    "internet_sort = internet_df.sort_values(['Year', 'Internet_Users_Pct'], ascending=[True, False])"
   ]
  },
  {
   "cell_type": "code",
   "execution_count": 113,
   "id": "d23bf0d4-344b-4b7f-abb2-dc4e8c06cbbd",
   "metadata": {},
   "outputs": [
    {
     "data": {
      "text/html": [
       "<div>\n",
       "<style scoped>\n",
       "    .dataframe tbody tr th:only-of-type {\n",
       "        vertical-align: middle;\n",
       "    }\n",
       "\n",
       "    .dataframe tbody tr th {\n",
       "        vertical-align: top;\n",
       "    }\n",
       "\n",
       "    .dataframe thead th {\n",
       "        text-align: right;\n",
       "    }\n",
       "</style>\n",
       "<table border=\"1\" class=\"dataframe\">\n",
       "  <thead>\n",
       "    <tr style=\"text-align: right;\">\n",
       "      <th></th>\n",
       "      <th>Country</th>\n",
       "      <th>Year</th>\n",
       "      <th>Internet_Users_Pct</th>\n",
       "    </tr>\n",
       "  </thead>\n",
       "  <tbody>\n",
       "    <tr>\n",
       "      <th>1570</th>\n",
       "      <td>Denmark</td>\n",
       "      <td>1990</td>\n",
       "      <td>0.097277</td>\n",
       "    </tr>\n",
       "    <tr>\n",
       "      <th>2892</th>\n",
       "      <td>Japan</td>\n",
       "      <td>1990</td>\n",
       "      <td>0.020294</td>\n",
       "    </tr>\n",
       "    <tr>\n",
       "      <th>306</th>\n",
       "      <td>Australia</td>\n",
       "      <td>1990</td>\n",
       "      <td>0.585095</td>\n",
       "    </tr>\n",
       "    <tr>\n",
       "      <th>2034</th>\n",
       "      <td>France</td>\n",
       "      <td>1990</td>\n",
       "      <td>0.052778</td>\n",
       "    </tr>\n",
       "    <tr>\n",
       "      <th>339</th>\n",
       "      <td>Austria</td>\n",
       "      <td>1990</td>\n",
       "      <td>0.130369</td>\n",
       "    </tr>\n",
       "    <tr>\n",
       "      <th>...</th>\n",
       "      <td>...</td>\n",
       "      <td>...</td>\n",
       "      <td>...</td>\n",
       "    </tr>\n",
       "    <tr>\n",
       "      <th>427</th>\n",
       "      <td>Bangladesh</td>\n",
       "      <td>2023</td>\n",
       "      <td>44.502700</td>\n",
       "    </tr>\n",
       "    <tr>\n",
       "      <th>677</th>\n",
       "      <td>Bosnia and Herzegovina</td>\n",
       "      <td>2023</td>\n",
       "      <td>83.377200</td>\n",
       "    </tr>\n",
       "    <tr>\n",
       "      <th>1656</th>\n",
       "      <td>Ecuador</td>\n",
       "      <td>2023</td>\n",
       "      <td>72.694300</td>\n",
       "    </tr>\n",
       "    <tr>\n",
       "      <th>1537</th>\n",
       "      <td>Denmark</td>\n",
       "      <td>2023</td>\n",
       "      <td>98.775600</td>\n",
       "    </tr>\n",
       "    <tr>\n",
       "      <th>3057</th>\n",
       "      <td>Kuwait</td>\n",
       "      <td>2023</td>\n",
       "      <td>99.747300</td>\n",
       "    </tr>\n",
       "  </tbody>\n",
       "</table>\n",
       "<p>5803 rows × 3 columns</p>\n",
       "</div>"
      ],
      "text/plain": [
       "                     Country  Year  Internet_Users_Pct\n",
       "1570                 Denmark  1990            0.097277\n",
       "2892                   Japan  1990            0.020294\n",
       "306                Australia  1990            0.585095\n",
       "2034                  France  1990            0.052778\n",
       "339                  Austria  1990            0.130369\n",
       "...                      ...   ...                 ...\n",
       "427               Bangladesh  2023           44.502700\n",
       "677   Bosnia and Herzegovina  2023           83.377200\n",
       "1656                 Ecuador  2023           72.694300\n",
       "1537                 Denmark  2023           98.775600\n",
       "3057                  Kuwait  2023           99.747300\n",
       "\n",
       "[5803 rows x 3 columns]"
      ]
     },
     "execution_count": 113,
     "metadata": {},
     "output_type": "execute_result"
    }
   ],
   "source": [
    "##Elizabeth's Code:\n",
    "internet_df[internet_df['Internet_Users_Pct']>0].sort_values('Year')"
   ]
  },
  {
   "cell_type": "markdown",
   "id": "48541d26-5d3c-44f8-be84-afa3c834fd52",
   "metadata": {},
   "source": [
    "## 18. How does the distribution of internet users percent differ for 2000 and 2014?"
   ]
  },
  {
   "cell_type": "code",
   "execution_count": 115,
   "id": "dd59f171-2a91-4ef3-a05c-9db48c4086d5",
   "metadata": {},
   "outputs": [
    {
     "name": "stdout",
     "output_type": "stream",
     "text": [
      "                  Country  Year  Internet_Users_Pct\n",
      "42                Albania  2000            0.114097\n",
      "71                Algeria  2000            0.491706\n",
      "100               Andorra  2000           10.538800\n",
      "128                Angola  2000            0.105046\n",
      "150              Anguilla  2000           22.405400\n",
      "...                   ...   ...                 ...\n",
      "5974  Virgin Islands (US)  2000           13.815100\n",
      "5994    Wallis and Futuna  2000            4.768070\n",
      "6017                Yemen  2000            0.082500\n",
      "6045               Zambia  2000            0.191072\n",
      "6075             Zimbabwe  2000            0.401434\n",
      "\n",
      "[210 rows x 3 columns]\n"
     ]
    },
    {
     "data": {
      "text/plain": [
       "pandas.core.frame.DataFrame"
      ]
     },
     "execution_count": 115,
     "metadata": {},
     "output_type": "execute_result"
    }
   ],
   "source": [
    "internet_2000 = internet_df[internet_df['Year']==2000]\n",
    "print(internet_2000)\n",
    "type(internet_2000)"
   ]
  },
  {
   "cell_type": "code",
   "execution_count": 116,
   "id": "f2a947d0-9c88-4abc-b6c0-53d2df9c7973",
   "metadata": {},
   "outputs": [
    {
     "data": {
      "text/html": [
       "<div>\n",
       "<style scoped>\n",
       "    .dataframe tbody tr th:only-of-type {\n",
       "        vertical-align: middle;\n",
       "    }\n",
       "\n",
       "    .dataframe tbody tr th {\n",
       "        vertical-align: top;\n",
       "    }\n",
       "\n",
       "    .dataframe thead th {\n",
       "        text-align: right;\n",
       "    }\n",
       "</style>\n",
       "<table border=\"1\" class=\"dataframe\">\n",
       "  <thead>\n",
       "    <tr style=\"text-align: right;\">\n",
       "      <th></th>\n",
       "      <th>Year</th>\n",
       "      <th>Internet_Users_Pct</th>\n",
       "    </tr>\n",
       "  </thead>\n",
       "  <tbody>\n",
       "    <tr>\n",
       "      <th>count</th>\n",
       "      <td>210.0</td>\n",
       "      <td>210.000000</td>\n",
       "    </tr>\n",
       "    <tr>\n",
       "      <th>mean</th>\n",
       "      <td>2000.0</td>\n",
       "      <td>9.332385</td>\n",
       "    </tr>\n",
       "    <tr>\n",
       "      <th>std</th>\n",
       "      <td>0.0</td>\n",
       "      <td>13.644205</td>\n",
       "    </tr>\n",
       "    <tr>\n",
       "      <th>min</th>\n",
       "      <td>2000.0</td>\n",
       "      <td>0.000000</td>\n",
       "    </tr>\n",
       "    <tr>\n",
       "      <th>25%</th>\n",
       "      <td>2000.0</td>\n",
       "      <td>0.482059</td>\n",
       "    </tr>\n",
       "    <tr>\n",
       "      <th>50%</th>\n",
       "      <td>2000.0</td>\n",
       "      <td>2.886680</td>\n",
       "    </tr>\n",
       "    <tr>\n",
       "      <th>75%</th>\n",
       "      <td>2000.0</td>\n",
       "      <td>10.539025</td>\n",
       "    </tr>\n",
       "    <tr>\n",
       "      <th>max</th>\n",
       "      <td>2000.0</td>\n",
       "      <td>58.620700</td>\n",
       "    </tr>\n",
       "  </tbody>\n",
       "</table>\n",
       "</div>"
      ],
      "text/plain": [
       "         Year  Internet_Users_Pct\n",
       "count   210.0          210.000000\n",
       "mean   2000.0            9.332385\n",
       "std       0.0           13.644205\n",
       "min    2000.0            0.000000\n",
       "25%    2000.0            0.482059\n",
       "50%    2000.0            2.886680\n",
       "75%    2000.0           10.539025\n",
       "max    2000.0           58.620700"
      ]
     },
     "execution_count": 116,
     "metadata": {},
     "output_type": "execute_result"
    }
   ],
   "source": [
    "internet_2000.describe()"
   ]
  },
  {
   "cell_type": "code",
   "execution_count": 117,
   "id": "bd14f112-177e-44bf-b372-1ec3a246fe32",
   "metadata": {},
   "outputs": [
    {
     "data": {
      "text/plain": [
       "2.88668"
      ]
     },
     "execution_count": 117,
     "metadata": {},
     "output_type": "execute_result"
    }
   ],
   "source": [
    "internet_2000['Internet_Users_Pct'].median()"
   ]
  },
  {
   "cell_type": "code",
   "execution_count": 118,
   "id": "0bac875d-7c97-4af9-9b36-cb9b9da3d003",
   "metadata": {},
   "outputs": [
    {
     "name": "stdout",
     "output_type": "stream",
     "text": [
      "                  Country  Year  Internet_Users_Pct\n",
      "5             Afghanistan  2014              7.0000\n",
      "28                Albania  2014             54.3000\n",
      "57                Algeria  2014             29.5000\n",
      "87                Andorra  2014             86.1000\n",
      "114                Angola  2014             21.3623\n",
      "...                   ...   ...                 ...\n",
      "5937             Viet Nam  2014             41.0000\n",
      "5960  Virgin Islands (US)  2014             50.0700\n",
      "6003                Yemen  2014             22.5500\n",
      "6031               Zambia  2014              6.5000\n",
      "6061             Zimbabwe  2014             16.3647\n",
      "\n",
      "[204 rows x 3 columns]\n"
     ]
    },
    {
     "data": {
      "text/plain": [
       "pandas.core.frame.DataFrame"
      ]
     },
     "execution_count": 118,
     "metadata": {},
     "output_type": "execute_result"
    }
   ],
   "source": [
    "internet_2014 = internet_df[internet_df['Year']==2014]\n",
    "print(internet_2014)\n",
    "type(internet_2014)"
   ]
  },
  {
   "cell_type": "code",
   "execution_count": 119,
   "id": "038a267d-8c0a-4d8b-93bb-de8017a76d7f",
   "metadata": {},
   "outputs": [
    {
     "data": {
      "text/html": [
       "<div>\n",
       "<style scoped>\n",
       "    .dataframe tbody tr th:only-of-type {\n",
       "        vertical-align: middle;\n",
       "    }\n",
       "\n",
       "    .dataframe tbody tr th {\n",
       "        vertical-align: top;\n",
       "    }\n",
       "\n",
       "    .dataframe thead th {\n",
       "        text-align: right;\n",
       "    }\n",
       "</style>\n",
       "<table border=\"1\" class=\"dataframe\">\n",
       "  <thead>\n",
       "    <tr style=\"text-align: right;\">\n",
       "      <th></th>\n",
       "      <th>Year</th>\n",
       "      <th>Internet_Users_Pct</th>\n",
       "    </tr>\n",
       "  </thead>\n",
       "  <tbody>\n",
       "    <tr>\n",
       "      <th>count</th>\n",
       "      <td>204.0</td>\n",
       "      <td>204.000000</td>\n",
       "    </tr>\n",
       "    <tr>\n",
       "      <th>mean</th>\n",
       "      <td>2014.0</td>\n",
       "      <td>45.604925</td>\n",
       "    </tr>\n",
       "    <tr>\n",
       "      <th>std</th>\n",
       "      <td>0.0</td>\n",
       "      <td>29.295667</td>\n",
       "    </tr>\n",
       "    <tr>\n",
       "      <th>min</th>\n",
       "      <td>2014.0</td>\n",
       "      <td>0.990000</td>\n",
       "    </tr>\n",
       "    <tr>\n",
       "      <th>25%</th>\n",
       "      <td>2014.0</td>\n",
       "      <td>17.403300</td>\n",
       "    </tr>\n",
       "    <tr>\n",
       "      <th>50%</th>\n",
       "      <td>2014.0</td>\n",
       "      <td>46.818000</td>\n",
       "    </tr>\n",
       "    <tr>\n",
       "      <th>75%</th>\n",
       "      <td>2014.0</td>\n",
       "      <td>70.262500</td>\n",
       "    </tr>\n",
       "    <tr>\n",
       "      <th>max</th>\n",
       "      <td>2014.0</td>\n",
       "      <td>98.158000</td>\n",
       "    </tr>\n",
       "  </tbody>\n",
       "</table>\n",
       "</div>"
      ],
      "text/plain": [
       "         Year  Internet_Users_Pct\n",
       "count   204.0          204.000000\n",
       "mean   2014.0           45.604925\n",
       "std       0.0           29.295667\n",
       "min    2014.0            0.990000\n",
       "25%    2014.0           17.403300\n",
       "50%    2014.0           46.818000\n",
       "75%    2014.0           70.262500\n",
       "max    2014.0           98.158000"
      ]
     },
     "execution_count": 119,
     "metadata": {},
     "output_type": "execute_result"
    }
   ],
   "source": [
    "internet_2014.describe()"
   ]
  },
  {
   "cell_type": "code",
   "execution_count": 120,
   "id": "79ccb02c-1ef7-4ea3-b477-23d2d64cf3c4",
   "metadata": {
    "scrolled": true
   },
   "outputs": [
    {
     "data": {
      "text/plain": [
       "46.818"
      ]
     },
     "execution_count": 120,
     "metadata": {},
     "output_type": "execute_result"
    }
   ],
   "source": [
    "internet_2014['Internet_Users_Pct'].median()\n",
    "##gdp_2020['GDP_Per_Capita'].median()"
   ]
  },
  {
   "cell_type": "markdown",
   "id": "07e78c63-583b-4f0b-bfa3-77bbf6e423ff",
   "metadata": {},
   "source": [
    "##ANS: Year 2000 = 2.89 and Year 2014 = 46.82"
   ]
  },
  {
   "cell_type": "markdown",
   "id": "dd416324-97bb-4196-871b-d3c5aeb8a2c5",
   "metadata": {},
   "source": [
    "## 19. For how many countries was the percentage of internet users below 5% in 2014?"
   ]
  },
  {
   "cell_type": "code",
   "execution_count": 123,
   "id": "0ee29dbb-409b-4840-b211-c9a3896deb34",
   "metadata": {},
   "outputs": [
    {
     "data": {
      "text/plain": [
       "Country               10\n",
       "Year                  10\n",
       "Internet_Users_Pct    10\n",
       "dtype: int64"
      ]
     },
     "execution_count": 123,
     "metadata": {},
     "output_type": "execute_result"
    }
   ],
   "source": [
    "internet_2014[internet_2014['Internet_Users_Pct'] < 5.0000].sort_values('Country').count()"
   ]
  },
  {
   "cell_type": "markdown",
   "id": "cf640007-4240-4dd5-a93f-5c222796d859",
   "metadata": {},
   "source": [
    "##ANS: 10 countries"
   ]
  },
  {
   "cell_type": "markdown",
   "id": "4f2a70a2-085a-4482-abf6-f1814dfe9142",
   "metadata": {},
   "source": [
    "## 20. Merge the two DataFrames to one. Do this in a way that keeps **all rows** from each of the two DataFrames. Call the new DataFrame `gdp_and_internet_use`. Look at the first and last few rows to confirm that it merged correctly."
   ]
  },
  {
   "cell_type": "code",
   "execution_count": 126,
   "id": "caed4e45-fcc4-4dd8-9385-2f72f76784e9",
   "metadata": {},
   "outputs": [
    {
     "name": "stdout",
     "output_type": "stream",
     "text": [
      "          Country  Year  GDP_Per_Capita  Internet_Users_Pct\n",
      "0     Afghanistan  1990             NaN            0.000000\n",
      "1     Afghanistan  2001             NaN            0.004723\n",
      "2     Afghanistan  2002     1280.463171            0.004561\n",
      "3     Afghanistan  2003     1292.333437            0.087891\n",
      "4     Afghanistan  2004     1260.060581            0.105809\n",
      "...           ...   ...             ...                 ...\n",
      "9107     Zimbabwe  2018     2399.621551           25.000000\n",
      "9108     Zimbabwe  2019     2203.396810           26.588300\n",
      "9109     Zimbabwe  2020     1990.319419           29.298600\n",
      "9110     Zimbabwe  2021     2115.144555           32.461600\n",
      "9111     Zimbabwe  2022     2143.237574           32.561500\n",
      "\n",
      "[9112 rows x 4 columns]\n"
     ]
    }
   ],
   "source": [
    "gdp_and_internet_use = pd.merge(gdp_df, internet_df, on = ['Country', 'Year'], how = 'outer')\n",
    "print(gdp_and_internet_use)"
   ]
  },
  {
   "cell_type": "code",
   "execution_count": 127,
   "id": "410aab63-5eaf-4b47-86a6-8a739e9b92fe",
   "metadata": {},
   "outputs": [
    {
     "data": {
      "text/html": [
       "<div>\n",
       "<style scoped>\n",
       "    .dataframe tbody tr th:only-of-type {\n",
       "        vertical-align: middle;\n",
       "    }\n",
       "\n",
       "    .dataframe tbody tr th {\n",
       "        vertical-align: top;\n",
       "    }\n",
       "\n",
       "    .dataframe thead th {\n",
       "        text-align: right;\n",
       "    }\n",
       "</style>\n",
       "<table border=\"1\" class=\"dataframe\">\n",
       "  <thead>\n",
       "    <tr style=\"text-align: right;\">\n",
       "      <th></th>\n",
       "      <th>Country</th>\n",
       "      <th>Year</th>\n",
       "      <th>GDP_Per_Capita</th>\n",
       "      <th>Internet_Users_Pct</th>\n",
       "    </tr>\n",
       "  </thead>\n",
       "  <tbody>\n",
       "    <tr>\n",
       "      <th>0</th>\n",
       "      <td>Afghanistan</td>\n",
       "      <td>1990</td>\n",
       "      <td>NaN</td>\n",
       "      <td>0.000000</td>\n",
       "    </tr>\n",
       "    <tr>\n",
       "      <th>1</th>\n",
       "      <td>Afghanistan</td>\n",
       "      <td>2001</td>\n",
       "      <td>NaN</td>\n",
       "      <td>0.004723</td>\n",
       "    </tr>\n",
       "    <tr>\n",
       "      <th>2</th>\n",
       "      <td>Afghanistan</td>\n",
       "      <td>2002</td>\n",
       "      <td>1280.463171</td>\n",
       "      <td>0.004561</td>\n",
       "    </tr>\n",
       "    <tr>\n",
       "      <th>3</th>\n",
       "      <td>Afghanistan</td>\n",
       "      <td>2003</td>\n",
       "      <td>1292.333437</td>\n",
       "      <td>0.087891</td>\n",
       "    </tr>\n",
       "    <tr>\n",
       "      <th>4</th>\n",
       "      <td>Afghanistan</td>\n",
       "      <td>2004</td>\n",
       "      <td>1260.060581</td>\n",
       "      <td>0.105809</td>\n",
       "    </tr>\n",
       "  </tbody>\n",
       "</table>\n",
       "</div>"
      ],
      "text/plain": [
       "       Country  Year  GDP_Per_Capita  Internet_Users_Pct\n",
       "0  Afghanistan  1990             NaN            0.000000\n",
       "1  Afghanistan  2001             NaN            0.004723\n",
       "2  Afghanistan  2002     1280.463171            0.004561\n",
       "3  Afghanistan  2003     1292.333437            0.087891\n",
       "4  Afghanistan  2004     1260.060581            0.105809"
      ]
     },
     "execution_count": 127,
     "metadata": {},
     "output_type": "execute_result"
    }
   ],
   "source": [
    "gdp_and_internet_use.head()"
   ]
  },
  {
   "cell_type": "code",
   "execution_count": 128,
   "id": "8f3e4a5a-98d9-4cf7-b9a0-056e4d4a263d",
   "metadata": {},
   "outputs": [
    {
     "data": {
      "text/html": [
       "<div>\n",
       "<style scoped>\n",
       "    .dataframe tbody tr th:only-of-type {\n",
       "        vertical-align: middle;\n",
       "    }\n",
       "\n",
       "    .dataframe tbody tr th {\n",
       "        vertical-align: top;\n",
       "    }\n",
       "\n",
       "    .dataframe thead th {\n",
       "        text-align: right;\n",
       "    }\n",
       "</style>\n",
       "<table border=\"1\" class=\"dataframe\">\n",
       "  <thead>\n",
       "    <tr style=\"text-align: right;\">\n",
       "      <th></th>\n",
       "      <th>Country</th>\n",
       "      <th>Year</th>\n",
       "      <th>GDP_Per_Capita</th>\n",
       "      <th>Internet_Users_Pct</th>\n",
       "    </tr>\n",
       "  </thead>\n",
       "  <tbody>\n",
       "    <tr>\n",
       "      <th>9107</th>\n",
       "      <td>Zimbabwe</td>\n",
       "      <td>2018</td>\n",
       "      <td>2399.621551</td>\n",
       "      <td>25.0000</td>\n",
       "    </tr>\n",
       "    <tr>\n",
       "      <th>9108</th>\n",
       "      <td>Zimbabwe</td>\n",
       "      <td>2019</td>\n",
       "      <td>2203.396810</td>\n",
       "      <td>26.5883</td>\n",
       "    </tr>\n",
       "    <tr>\n",
       "      <th>9109</th>\n",
       "      <td>Zimbabwe</td>\n",
       "      <td>2020</td>\n",
       "      <td>1990.319419</td>\n",
       "      <td>29.2986</td>\n",
       "    </tr>\n",
       "    <tr>\n",
       "      <th>9110</th>\n",
       "      <td>Zimbabwe</td>\n",
       "      <td>2021</td>\n",
       "      <td>2115.144555</td>\n",
       "      <td>32.4616</td>\n",
       "    </tr>\n",
       "    <tr>\n",
       "      <th>9111</th>\n",
       "      <td>Zimbabwe</td>\n",
       "      <td>2022</td>\n",
       "      <td>2143.237574</td>\n",
       "      <td>32.5615</td>\n",
       "    </tr>\n",
       "  </tbody>\n",
       "</table>\n",
       "</div>"
      ],
      "text/plain": [
       "       Country  Year  GDP_Per_Capita  Internet_Users_Pct\n",
       "9107  Zimbabwe  2018     2399.621551             25.0000\n",
       "9108  Zimbabwe  2019     2203.396810             26.5883\n",
       "9109  Zimbabwe  2020     1990.319419             29.2986\n",
       "9110  Zimbabwe  2021     2115.144555             32.4616\n",
       "9111  Zimbabwe  2022     2143.237574             32.5615"
      ]
     },
     "execution_count": 128,
     "metadata": {},
     "output_type": "execute_result"
    }
   ],
   "source": [
    "gdp_and_internet_use.tail()"
   ]
  },
  {
   "cell_type": "code",
   "execution_count": 129,
   "id": "338e494c-760b-435e-a9cf-73a685839cf1",
   "metadata": {},
   "outputs": [
    {
     "name": "stdout",
     "output_type": "stream",
     "text": [
      "<class 'pandas.core.frame.DataFrame'>\n",
      "RangeIndex: 9112 entries, 0 to 9111\n",
      "Data columns (total 4 columns):\n",
      " #   Column              Non-Null Count  Dtype  \n",
      "---  ------              --------------  -----  \n",
      " 0   Country             9112 non-null   object \n",
      " 1   Year                9112 non-null   int64  \n",
      " 2   GDP_Per_Capita      7662 non-null   float64\n",
      " 3   Internet_Users_Pct  6083 non-null   float64\n",
      "dtypes: float64(2), int64(1), object(1)\n",
      "memory usage: 284.9+ KB\n"
     ]
    }
   ],
   "source": [
    "gdp_and_internet_use.info()"
   ]
  },
  {
   "cell_type": "markdown",
   "id": "f7ea2dd4-6955-4de4-932e-409ea4069662",
   "metadata": {},
   "source": [
    "## 21. Find the three countries with the highest internet users percentage in 2014. Use a seaborn FacetGrid (https://seaborn.pydata.org/generated/seaborn.FacetGrid.html) to compare how the GDP per capita has changed over time for these three countries. What do you notice?"
   ]
  },
  {
   "cell_type": "code",
   "execution_count": 131,
   "id": "33b070f7-ce44-45b4-a6f9-4baece924557",
   "metadata": {},
   "outputs": [
    {
     "name": "stdout",
     "output_type": "stream",
     "text": [
      "                          Country  Year  Internet_Users_Pct\n",
      "2592                      Iceland  2014              98.158\n",
      "1893  Falkland (Malvinas) Islands  2014              97.600\n",
      "602                       Bermuda  2014              96.800\n"
     ]
    }
   ],
   "source": [
    "top3_df = internet_2014.nlargest(3,'Internet_Users_Pct')\n",
    "print(top3_df)"
   ]
  },
  {
   "cell_type": "code",
   "execution_count": 132,
   "id": "435b6a39-37d7-442e-994f-aa50deacf724",
   "metadata": {},
   "outputs": [],
   "source": [
    "#sns.FacetGrid(top3_2014, col='Year', row='Country')\n",
    "#top3_2014.map_dataframe(sns.scatterplot, x=\"Year\", y=\"Internet_Users_Pct\")\n",
    "#top3_2014.add_legend()"
   ]
  },
  {
   "cell_type": "code",
   "execution_count": 133,
   "id": "d9e9e780-c137-433f-bf71-f363caa74ab2",
   "metadata": {},
   "outputs": [
    {
     "data": {
      "text/plain": [
       "<seaborn.axisgrid.FacetGrid at 0x230be58ef60>"
      ]
     },
     "execution_count": 133,
     "metadata": {},
     "output_type": "execute_result"
    },
    {
     "data": {
      "image/png": "[encoded data removed]",
      "text/plain": [
       "<Figure size 900x300 with 3 Axes>"
      ]
     },
     "metadata": {},
     "output_type": "display_data"
    }
   ],
   "source": [
    "## Ryan's Answer:##\n",
    "sns.FacetGrid(gdp_and_internet_use[gdp_and_internet_use[\"Country\"].isin(top3_df[\"Country\"])], col=\"Country\").map(sns.scatterplot, \"Year\", \"GDP_Per_Capita\")\n",
    "\n",
    "##Facet Grid lays the groundwork for graph\n",
    "##Use .map for DF and FacetGrid"
   ]
  },
  {
   "cell_type": "markdown",
   "id": "fb3bd589-567d-4592-a145-7dc926708ecb",
   "metadata": {},
   "source": [
    "## 22. Subset `gdp_and_internet_use` to just the year 2014. Save this as a new dataframe named `gdp_and_internet_use_2014`"
   ]
  },
  {
   "cell_type": "code",
   "execution_count": 135,
   "id": "d0f6e8b2-c25d-462b-aa60-9a981531e812",
   "metadata": {},
   "outputs": [
    {
     "name": "stdout",
     "output_type": "stream",
     "text": [
      "                          Country  Year  GDP_Per_Capita  Internet_Users_Pct\n",
      "14                    Afghanistan  2014     2144.449634              7.0000\n",
      "46    Africa Eastern and Southern  2014     3642.875373                 NaN\n",
      "79     Africa Western and Central  2014     4146.994622                 NaN\n",
      "112                       Albania  2014    11586.817446             54.3000\n",
      "145                       Algeria  2014    11561.259795             29.5000\n",
      "...                           ...   ...             ...                 ...\n",
      "8978           West Bank and Gaza  2014     5967.073437                 NaN\n",
      "9011                        World  2014    15120.730322                 NaN\n",
      "9039                        Yemen  2014             NaN             22.5500\n",
      "9070                       Zambia  2014     3375.941270              6.5000\n",
      "9103                     Zimbabwe  2014     2316.954536             16.3647\n",
      "\n",
      "[284 rows x 4 columns]\n"
     ]
    }
   ],
   "source": [
    "gdp_and_internet_2014 = gdp_and_internet_use[gdp_and_internet_use['Year']==2014]\n",
    "print(gdp_and_internet_2014)"
   ]
  },
  {
   "cell_type": "code",
   "execution_count": 136,
   "id": "00e9e377-fa45-4ed6-b8bb-b7037b97db12",
   "metadata": {},
   "outputs": [],
   "source": [
    "##gdp_and_internet_2014 = gdp_and_internet_2014[gdp_and_internet_2014['Year']==2014] #reset_index(drop=True)"
   ]
  },
  {
   "cell_type": "code",
   "execution_count": 137,
   "id": "bb4cb9c7-68ab-455a-ba92-ce3ba88136b4",
   "metadata": {},
   "outputs": [
    {
     "data": {
      "text/html": [
       "<div>\n",
       "<style scoped>\n",
       "    .dataframe tbody tr th:only-of-type {\n",
       "        vertical-align: middle;\n",
       "    }\n",
       "\n",
       "    .dataframe tbody tr th {\n",
       "        vertical-align: top;\n",
       "    }\n",
       "\n",
       "    .dataframe thead th {\n",
       "        text-align: right;\n",
       "    }\n",
       "</style>\n",
       "<table border=\"1\" class=\"dataframe\">\n",
       "  <thead>\n",
       "    <tr style=\"text-align: right;\">\n",
       "      <th></th>\n",
       "      <th>Country</th>\n",
       "      <th>Year</th>\n",
       "      <th>GDP_Per_Capita</th>\n",
       "      <th>Internet_Users_Pct</th>\n",
       "    </tr>\n",
       "  </thead>\n",
       "  <tbody>\n",
       "    <tr>\n",
       "      <th>14</th>\n",
       "      <td>Afghanistan</td>\n",
       "      <td>2014</td>\n",
       "      <td>2144.449634</td>\n",
       "      <td>7.0000</td>\n",
       "    </tr>\n",
       "    <tr>\n",
       "      <th>46</th>\n",
       "      <td>Africa Eastern and Southern</td>\n",
       "      <td>2014</td>\n",
       "      <td>3642.875373</td>\n",
       "      <td>NaN</td>\n",
       "    </tr>\n",
       "    <tr>\n",
       "      <th>79</th>\n",
       "      <td>Africa Western and Central</td>\n",
       "      <td>2014</td>\n",
       "      <td>4146.994622</td>\n",
       "      <td>NaN</td>\n",
       "    </tr>\n",
       "    <tr>\n",
       "      <th>112</th>\n",
       "      <td>Albania</td>\n",
       "      <td>2014</td>\n",
       "      <td>11586.817446</td>\n",
       "      <td>54.3000</td>\n",
       "    </tr>\n",
       "    <tr>\n",
       "      <th>145</th>\n",
       "      <td>Algeria</td>\n",
       "      <td>2014</td>\n",
       "      <td>11561.259795</td>\n",
       "      <td>29.5000</td>\n",
       "    </tr>\n",
       "    <tr>\n",
       "      <th>...</th>\n",
       "      <td>...</td>\n",
       "      <td>...</td>\n",
       "      <td>...</td>\n",
       "      <td>...</td>\n",
       "    </tr>\n",
       "    <tr>\n",
       "      <th>8978</th>\n",
       "      <td>West Bank and Gaza</td>\n",
       "      <td>2014</td>\n",
       "      <td>5967.073437</td>\n",
       "      <td>NaN</td>\n",
       "    </tr>\n",
       "    <tr>\n",
       "      <th>9011</th>\n",
       "      <td>World</td>\n",
       "      <td>2014</td>\n",
       "      <td>15120.730322</td>\n",
       "      <td>NaN</td>\n",
       "    </tr>\n",
       "    <tr>\n",
       "      <th>9039</th>\n",
       "      <td>Yemen</td>\n",
       "      <td>2014</td>\n",
       "      <td>NaN</td>\n",
       "      <td>22.5500</td>\n",
       "    </tr>\n",
       "    <tr>\n",
       "      <th>9070</th>\n",
       "      <td>Zambia</td>\n",
       "      <td>2014</td>\n",
       "      <td>3375.941270</td>\n",
       "      <td>6.5000</td>\n",
       "    </tr>\n",
       "    <tr>\n",
       "      <th>9103</th>\n",
       "      <td>Zimbabwe</td>\n",
       "      <td>2014</td>\n",
       "      <td>2316.954536</td>\n",
       "      <td>16.3647</td>\n",
       "    </tr>\n",
       "  </tbody>\n",
       "</table>\n",
       "<p>284 rows × 4 columns</p>\n",
       "</div>"
      ],
      "text/plain": [
       "                          Country  Year  GDP_Per_Capita  Internet_Users_Pct\n",
       "14                    Afghanistan  2014     2144.449634              7.0000\n",
       "46    Africa Eastern and Southern  2014     3642.875373                 NaN\n",
       "79     Africa Western and Central  2014     4146.994622                 NaN\n",
       "112                       Albania  2014    11586.817446             54.3000\n",
       "145                       Algeria  2014    11561.259795             29.5000\n",
       "...                           ...   ...             ...                 ...\n",
       "8978           West Bank and Gaza  2014     5967.073437                 NaN\n",
       "9011                        World  2014    15120.730322                 NaN\n",
       "9039                        Yemen  2014             NaN             22.5500\n",
       "9070                       Zambia  2014     3375.941270              6.5000\n",
       "9103                     Zimbabwe  2014     2316.954536             16.3647\n",
       "\n",
       "[284 rows x 4 columns]"
      ]
     },
     "execution_count": 137,
     "metadata": {},
     "output_type": "execute_result"
    }
   ],
   "source": [
    "gdp_and_internet_2014"
   ]
  },
  {
   "cell_type": "markdown",
   "id": "5a951e3c-70e3-469e-9b1a-4cf7958fb555",
   "metadata": {},
   "source": [
    "## 23. Create a plot which compares Internet Users Percentage and GDP per Capita for the year 2014. What do you notice from this plot? If you see any unusual points, investigate them."
   ]
  },
  {
   "cell_type": "code",
   "execution_count": 139,
   "id": "92ee585c-83ba-4fa1-8a7a-57cecf44f9a0",
   "metadata": {},
   "outputs": [
    {
     "data": {
      "text/plain": [
       "Text(0.5, 1.0, '2014 Internet Users % and GDP Per Capita')"
      ]
     },
     "execution_count": 139,
     "metadata": {},
     "output_type": "execute_result"
    },
    {
     "data": {
      "image/png": "[encoded data removed]",
      "text/plain": [
       "<Figure size 640x480 with 1 Axes>"
      ]
     },
     "metadata": {},
     "output_type": "display_data"
    }
   ],
   "source": [
    "sns.regplot(data = gdp_and_internet_2014, \n",
    "            x= 'Internet_Users_Pct',\n",
    "            y= 'GDP_Per_Capita')\n",
    "plt.xlabel('Internet_Users_Pct')\n",
    "plt.ylabel('GDP Per Capita')\n",
    "plt.title('2014 Internet Users % and GDP Per Capita')"
   ]
  },
  {
   "cell_type": "markdown",
   "id": "42a30b1f-cbb7-4893-919e-ed64ad0d6ab8",
   "metadata": {},
   "source": [
    "## 24. **Stretch Question:** Use the `qcut` function from pandas (https://pandas.pydata.org/docs/reference/api/pandas.qcut.html) to divide countries in `gdp_per_capita_2014` into three groups based on their GDP per capita values. Label these groups as \"Low\", \"Medium\", and \"High\". Put these labels in a new column, named \"GDP_group\"."
   ]
  },
  {
   "cell_type": "code",
   "execution_count": 153,
   "id": "6a7e09dd-5c0c-48d9-b845-48178267ec25",
   "metadata": {},
   "outputs": [],
   "source": [
    "##gdp_per_capita_2014 =  gdp_df[gdp_df['Year']==2014]"
   ]
  },
  {
   "cell_type": "code",
   "execution_count": 155,
   "id": "bdaefb4a-767e-4ab5-b129-9025b39c4a23",
   "metadata": {},
   "outputs": [
    {
     "name": "stderr",
     "output_type": "stream",
     "text": [
      "C:\\Users\\sabri\\AppData\\Local\\Temp\\ipykernel_37172\\3285453518.py:1: SettingWithCopyWarning: \n",
      "A value is trying to be set on a copy of a slice from a DataFrame.\n",
      "Try using .loc[row_indexer,col_indexer] = value instead\n",
      "\n",
      "See the caveats in the documentation: https://pandas.pydata.org/pandas-docs/stable/user_guide/indexing.html#returning-a-view-versus-a-copy\n",
      "  gdp_per_capita_2014['GDP_group'] = pd.qcut(gdp_per_capita_2014['GDP_Per_Capita'], 3, labels=[\"Low\", \"Medium\", \"High\"])\n"
     ]
    }
   ],
   "source": [
    "gdp_per_capita_2014['GDP_group'] = pd.qcut(gdp_per_capita_2014['GDP_Per_Capita'], 3, labels=[\"Low\", \"Medium\", \"High\"])"
   ]
  },
  {
   "cell_type": "code",
   "execution_count": 159,
   "id": "37046b2c-c998-4410-bad4-a47bca452472",
   "metadata": {},
   "outputs": [
    {
     "data": {
      "text/plain": [
       "pandas.core.frame.DataFrame"
      ]
     },
     "execution_count": 159,
     "metadata": {},
     "output_type": "execute_result"
    }
   ],
   "source": [
    "type(gdp_per_capita_2014)"
   ]
  },
  {
   "cell_type": "code",
   "execution_count": 157,
   "id": "ae5e541c-f234-4d27-a3b4-14e5f0a35fb7",
   "metadata": {},
   "outputs": [
    {
     "data": {
      "text/html": [
       "<div>\n",
       "<style scoped>\n",
       "    .dataframe tbody tr th:only-of-type {\n",
       "        vertical-align: middle;\n",
       "    }\n",
       "\n",
       "    .dataframe tbody tr th {\n",
       "        vertical-align: top;\n",
       "    }\n",
       "\n",
       "    .dataframe thead th {\n",
       "        text-align: right;\n",
       "    }\n",
       "</style>\n",
       "<table border=\"1\" class=\"dataframe\">\n",
       "  <thead>\n",
       "    <tr style=\"text-align: right;\">\n",
       "      <th></th>\n",
       "      <th>Country</th>\n",
       "      <th>Year</th>\n",
       "      <th>GDP_Per_Capita</th>\n",
       "      <th>GDP_group</th>\n",
       "    </tr>\n",
       "  </thead>\n",
       "  <tbody>\n",
       "    <tr>\n",
       "      <th>7</th>\n",
       "      <td>Afghanistan</td>\n",
       "      <td>2014</td>\n",
       "      <td>2144.449634</td>\n",
       "      <td>Low</td>\n",
       "    </tr>\n",
       "    <tr>\n",
       "      <th>28</th>\n",
       "      <td>Africa Eastern and Southern</td>\n",
       "      <td>2014</td>\n",
       "      <td>3642.875373</td>\n",
       "      <td>Low</td>\n",
       "    </tr>\n",
       "    <tr>\n",
       "      <th>61</th>\n",
       "      <td>Africa Western and Central</td>\n",
       "      <td>2014</td>\n",
       "      <td>4146.994622</td>\n",
       "      <td>Low</td>\n",
       "    </tr>\n",
       "    <tr>\n",
       "      <th>94</th>\n",
       "      <td>Albania</td>\n",
       "      <td>2014</td>\n",
       "      <td>11586.817446</td>\n",
       "      <td>Medium</td>\n",
       "    </tr>\n",
       "    <tr>\n",
       "      <th>127</th>\n",
       "      <td>Algeria</td>\n",
       "      <td>2014</td>\n",
       "      <td>11561.259795</td>\n",
       "      <td>Medium</td>\n",
       "    </tr>\n",
       "    <tr>\n",
       "      <th>...</th>\n",
       "      <td>...</td>\n",
       "      <td>...</td>\n",
       "      <td>...</td>\n",
       "      <td>...</td>\n",
       "    </tr>\n",
       "    <tr>\n",
       "      <th>7509</th>\n",
       "      <td>Viet Nam</td>\n",
       "      <td>2014</td>\n",
       "      <td>7641.909252</td>\n",
       "      <td>Medium</td>\n",
       "    </tr>\n",
       "    <tr>\n",
       "      <th>7542</th>\n",
       "      <td>West Bank and Gaza</td>\n",
       "      <td>2014</td>\n",
       "      <td>5967.073437</td>\n",
       "      <td>Low</td>\n",
       "    </tr>\n",
       "    <tr>\n",
       "      <th>7571</th>\n",
       "      <td>World</td>\n",
       "      <td>2014</td>\n",
       "      <td>15120.730322</td>\n",
       "      <td>Medium</td>\n",
       "    </tr>\n",
       "    <tr>\n",
       "      <th>7604</th>\n",
       "      <td>Zambia</td>\n",
       "      <td>2014</td>\n",
       "      <td>3375.941270</td>\n",
       "      <td>Low</td>\n",
       "    </tr>\n",
       "    <tr>\n",
       "      <th>7637</th>\n",
       "      <td>Zimbabwe</td>\n",
       "      <td>2014</td>\n",
       "      <td>2316.954536</td>\n",
       "      <td>Low</td>\n",
       "    </tr>\n",
       "  </tbody>\n",
       "</table>\n",
       "<p>242 rows × 4 columns</p>\n",
       "</div>"
      ],
      "text/plain": [
       "                          Country  Year  GDP_Per_Capita GDP_group\n",
       "7                     Afghanistan  2014     2144.449634       Low\n",
       "28    Africa Eastern and Southern  2014     3642.875373       Low\n",
       "61     Africa Western and Central  2014     4146.994622       Low\n",
       "94                        Albania  2014    11586.817446    Medium\n",
       "127                       Algeria  2014    11561.259795    Medium\n",
       "...                           ...   ...             ...       ...\n",
       "7509                     Viet Nam  2014     7641.909252    Medium\n",
       "7542           West Bank and Gaza  2014     5967.073437       Low\n",
       "7571                        World  2014    15120.730322    Medium\n",
       "7604                       Zambia  2014     3375.941270       Low\n",
       "7637                     Zimbabwe  2014     2316.954536       Low\n",
       "\n",
       "[242 rows x 4 columns]"
      ]
     },
     "execution_count": 157,
     "metadata": {},
     "output_type": "execute_result"
    }
   ],
   "source": [
    "gdp_per_capita_2014"
   ]
  },
  {
   "cell_type": "code",
   "execution_count": 161,
   "id": "d4e7f155-ba00-47df-ad32-d416b4e6748e",
   "metadata": {},
   "outputs": [],
   "source": [
    "##gdp_per_capita_2014.insert(4,'GDP_group', qcut_column)"
   ]
  },
  {
   "cell_type": "markdown",
   "id": "016a1f32-05c2-4129-ba69-f29408c2a670",
   "metadata": {},
   "source": [
    "## 25. **Stretch Question:** How does the median internet users percentage compare for the three gdp groups?"
   ]
  },
  {
   "cell_type": "code",
   "execution_count": null,
   "id": "e8652c73-a1d4-4217-a4ab-2aaf52b0dcef",
   "metadata": {},
   "outputs": [],
   "source": [
    "gdp_per_capita_2014['GDP_Per_Capita'].median()\n"
   ]
  },
  {
   "cell_type": "markdown",
   "id": "62322aca-885f-4551-890e-e57491dc2374",
   "metadata": {},
   "source": [
    "## BONUS:    Download another data set from the UN data (http://data.un.org/Explorer.aspx) to merge with your data and explore."
   ]
  },
  {
   "cell_type": "code",
   "execution_count": null,
   "id": "0dae64d7-7b6d-4c0b-9186-1a3d5d5ea953",
   "metadata": {},
   "outputs": [],
   "source": []
  }
 ],
 "metadata": {
  "kernelspec": {
   "display_name": "Python 3 (ipykernel)",
   "language": "python",
   "name": "python3"
  },
  "language_info": {
   "codemirror_mode": {
    "name": "ipython",
    "version": 3
   },
   "file_extension": ".py",
   "mimetype": "text/x-python",
   "name": "python",
   "nbconvert_exporter": "python",
   "pygments_lexer": "ipython3",
   "version": "3.12.7"
  }
 },
 "nbformat": 4,
 "nbformat_minor": 5
}
